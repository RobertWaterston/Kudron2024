{
 "cells": [
  {
   "cell_type": "markdown",
   "metadata": {},
   "source": [
    "# redo figure 6 GATAe plot with bootstrap and 84 peaks upper bound!"
   ]
  },
  {
   "cell_type": "code",
   "execution_count": 1,
   "metadata": {},
   "outputs": [
    {
     "name": "stderr",
     "output_type": "stream",
     "text": [
      "Warning message:\n",
      "“package ‘S4Vectors’ was built under R version 4.1.3”\n"
     ]
    }
   ],
   "source": [
    "suppressPackageStartupMessages({\n",
    "    library(monocle3)\n",
    "    library(tidyverse)\n",
    "    library(ggplot2)\n",
    "    library(reshape2)\n",
    "    library(viridis)\n",
    "    library(philentropy)\n",
    "library(cowplot)\n",
    "library(ggrepel)\n",
    "})"
   ]
  },
  {
   "cell_type": "code",
   "execution_count": null,
   "metadata": {},
   "outputs": [],
   "source": [
    "load(\"data/utility.functions.RData\")\n",
    "load(\"data/moreUtilities.RData\")\n",
    "load(\"data/utility.functions.3.RData\")"
   ]
  },
  {
   "cell_type": "code",
   "execution_count": 2,
   "metadata": {
    "collapsed": true
   },
   "outputs": [
    {
     "data": {
      "text/plain": [
       "R version 4.1.2 (2021-11-01)\n",
       "Platform: x86_64-apple-darwin17.0 (64-bit)\n",
       "Running under: macOS Big Sur 10.16\n",
       "\n",
       "Matrix products: default\n",
       "BLAS:   /Library/Frameworks/R.framework/Versions/4.1/Resources/lib/libRblas.0.dylib\n",
       "LAPACK: /Library/Frameworks/R.framework/Versions/4.1/Resources/lib/libRlapack.dylib\n",
       "\n",
       "locale:\n",
       "[1] en_US.UTF-8/en_US.UTF-8/en_US.UTF-8/C/en_US.UTF-8/en_US.UTF-8\n",
       "\n",
       "attached base packages:\n",
       "[1] stats4    stats     graphics  grDevices utils     datasets  methods  \n",
       "[8] base     \n",
       "\n",
       "other attached packages:\n",
       " [1] ggrepel_0.9.3               cowplot_1.1.1              \n",
       " [3] philentropy_0.7.0           viridis_0.6.3              \n",
       " [5] viridisLite_0.4.2           reshape2_1.4.4             \n",
       " [7] forcats_0.5.2               stringr_1.5.0              \n",
       " [9] dplyr_1.1.2                 purrr_1.0.1                \n",
       "[11] readr_2.1.3                 tidyr_1.3.0                \n",
       "[13] tibble_3.2.1                ggplot2_3.4.2              \n",
       "[15] tidyverse_1.3.2             monocle3_1.3.1             \n",
       "[17] SingleCellExperiment_1.16.0 SummarizedExperiment_1.24.0\n",
       "[19] GenomicRanges_1.46.1        GenomeInfoDb_1.30.1        \n",
       "[21] IRanges_2.28.0              S4Vectors_0.32.4           \n",
       "[23] MatrixGenerics_1.6.0        matrixStats_1.0.0          \n",
       "[25] Biobase_2.54.0              BiocGenerics_0.40.0        \n",
       "\n",
       "loaded via a namespace (and not attached):\n",
       " [1] nlme_3.1-153           bitops_1.0-7           fs_1.6.2              \n",
       " [4] lubridate_1.9.0        httr_1.4.6             repr_1.1.4            \n",
       " [7] tools_4.1.2            backports_1.4.1        utf8_1.2.3            \n",
       "[10] R6_2.5.1               DBI_1.1.3              colorspace_2.1-0      \n",
       "[13] withr_2.5.0            gridExtra_2.3          tidyselect_1.2.0      \n",
       "[16] compiler_4.1.2         rvest_1.0.3            cli_3.6.1             \n",
       "[19] xml2_1.3.4             DelayedArray_0.20.0    scales_1.2.1          \n",
       "[22] pbdZMQ_0.3-8           digest_0.6.31          minqa_1.2.5           \n",
       "[25] XVector_0.34.0         base64enc_0.1-3        pkgconfig_2.0.3       \n",
       "[28] htmltools_0.5.5        parallelly_1.33.0      lme4_1.1-31           \n",
       "[31] dbplyr_2.2.1           fastmap_1.1.1          readxl_1.4.1          \n",
       "[34] rlang_1.1.1            generics_0.1.3         jsonlite_1.8.5        \n",
       "[37] googlesheets4_1.0.1    RCurl_1.98-1.12        magrittr_2.0.3        \n",
       "[40] GenomeInfoDbData_1.2.7 Matrix_1.5-3           Rcpp_1.0.10           \n",
       "[43] IRkernel_1.3.1         munsell_0.5.0          fansi_1.0.4           \n",
       "[46] lifecycle_1.0.3        terra_1.6-47           stringi_1.7.12        \n",
       "[49] MASS_7.3-54            zlibbioc_1.40.0        plyr_1.8.8            \n",
       "[52] grid_4.1.2             parallel_4.1.2         listenv_0.9.0         \n",
       "[55] crayon_1.5.2           lattice_0.20-45        IRdisplay_1.1         \n",
       "[58] haven_2.5.1            splines_4.1.2          hms_1.1.2             \n",
       "[61] pillar_1.9.0           igraph_1.3.5           uuid_1.1-0            \n",
       "[64] boot_1.3-28            codetools_0.2-18       reprex_2.0.2          \n",
       "[67] glue_1.6.2             evaluate_0.21          modelr_0.1.10         \n",
       "[70] vctrs_0.6.3            nloptr_2.0.3           tzdb_0.3.0            \n",
       "[73] cellranger_1.1.0       gtable_0.3.3           future_1.30.0         \n",
       "[76] assertthat_0.2.1       broom_1.0.2            googledrive_2.0.0     \n",
       "[79] gargle_1.2.1           timechange_0.1.1       globals_0.16.2        \n",
       "[82] ellipsis_0.3.2        "
      ]
     },
     "metadata": {},
     "output_type": "display_data"
    }
   ],
   "source": [
    "sessionInfo()"
   ]
  },
  {
   "cell_type": "code",
   "execution_count": 3,
   "metadata": {},
   "outputs": [
    {
     "name": "stderr",
     "output_type": "stream",
     "text": [
      "\u001b[1mRows: \u001b[22m\u001b[34m13938\u001b[39m \u001b[1mColumns: \u001b[22m\u001b[34m83\u001b[39m\n",
      "\u001b[36m──\u001b[39m \u001b[1mColumn specification\u001b[22m \u001b[36m──────────────────────────────────────────────────────────────────────────────────────────────────────────────────────────────────────────\u001b[39m\n",
      "\u001b[1mDelimiter:\u001b[22m \"\\t\"\n",
      "\u001b[32mdbl\u001b[39m (83): Plasmatocytes_anlage, Ectoderm_AISN, Brain_and_ventral_nerve_cord_...\n",
      "\n",
      "\u001b[36mℹ\u001b[39m Use `spec()` to retrieve the full column specification for this data.\n",
      "\u001b[36mℹ\u001b[39m Specify the column types or set `show_col_types = FALSE` to quiet this message.\n"
     ]
    }
   ],
   "source": [
    "exp_matrix = read_tsv( \"data/cds_fly_pca300_vers3.final.annotation.bootstrapTPM_renamed.tsv\")"
   ]
  },
  {
   "cell_type": "code",
   "execution_count": 25,
   "metadata": {},
   "outputs": [
    {
     "data": {
      "text/html": [
       "<table class=\"dataframe\">\n",
       "<caption>A tibble: 6 × 83</caption>\n",
       "<thead>\n",
       "\t<tr><th scope=col>Plasmatocytes_anlage</th><th scope=col>Ectoderm_AISN</th><th scope=col>Brain_and_ventral_nerve_cord_1</th><th scope=col>Crystal_cell</th><th scope=col>Brain_and_ventral_nerve_cord_2</th><th scope=col>Sense_organs</th><th scope=col>Ventral_midline</th><th scope=col>Glutamatergic</th><th scope=col>Progenitor_cells_2</th><th scope=col>Cholinergic</th><th scope=col>⋯</th><th scope=col>Chordotonal_organ</th><th scope=col>Muscle_system_2</th><th scope=col>Salivary_gland_LS</th><th scope=col>Tracheal_system_3</th><th scope=col>unknown_5</th><th scope=col>Salivary_gland</th><th scope=col>Peptidergic_neuron</th><th scope=col>Germ_cells_testes</th><th scope=col>unknown_6</th><th scope=col>Epicuticle</th></tr>\n",
       "\t<tr><th scope=col>&lt;dbl&gt;</th><th scope=col>&lt;dbl&gt;</th><th scope=col>&lt;dbl&gt;</th><th scope=col>&lt;dbl&gt;</th><th scope=col>&lt;dbl&gt;</th><th scope=col>&lt;dbl&gt;</th><th scope=col>&lt;dbl&gt;</th><th scope=col>&lt;dbl&gt;</th><th scope=col>&lt;dbl&gt;</th><th scope=col>&lt;dbl&gt;</th><th scope=col>⋯</th><th scope=col>&lt;dbl&gt;</th><th scope=col>&lt;dbl&gt;</th><th scope=col>&lt;dbl&gt;</th><th scope=col>&lt;dbl&gt;</th><th scope=col>&lt;dbl&gt;</th><th scope=col>&lt;dbl&gt;</th><th scope=col>&lt;dbl&gt;</th><th scope=col>&lt;dbl&gt;</th><th scope=col>&lt;dbl&gt;</th><th scope=col>&lt;dbl&gt;</th></tr>\n",
       "</thead>\n",
       "<tbody>\n",
       "\t<tr><td> 15.241695</td><td> 24.14500</td><td>  74.59245</td><td> 29.70623</td><td>  56.657911</td><td> 22.69280</td><td> 14.834578</td><td> 17.074740</td><td>  94.58141</td><td> 17.169612</td><td>⋯</td><td>  21.62856</td><td> 11.68572</td><td>  41.89798</td><td> 22.37504</td><td> 54.27780</td><td> 16.78895</td><td>  42.0386</td><td>  54.56579</td><td>   0.00000</td><td> 29.21273</td></tr>\n",
       "\t<tr><td>580.910815</td><td>713.43372</td><td>1135.21335</td><td>329.41153</td><td>1283.186996</td><td>370.39666</td><td>419.684842</td><td>567.716250</td><td>1273.03428</td><td>730.362007</td><td>⋯</td><td>1471.89179</td><td>263.23349</td><td>1021.97848</td><td>401.48935</td><td>871.84311</td><td>525.21008</td><td> 917.0983</td><td> 697.40308</td><td> 819.63023</td><td>435.79921</td></tr>\n",
       "\t<tr><td>586.579637</td><td>524.80960</td><td> 868.60631</td><td>464.63602</td><td>1005.481406</td><td>762.98100</td><td>528.719184</td><td>736.022175</td><td>1409.73679</td><td>727.118625</td><td>⋯</td><td>1920.91615</td><td>810.64477</td><td>1380.24216</td><td>643.19947</td><td>833.53693</td><td>604.55604</td><td>1130.8641</td><td>1018.59813</td><td>1044.84111</td><td>518.78156</td></tr>\n",
       "\t<tr><td>  1.901643</td><td> 11.59448</td><td>  14.72633</td><td>  6.03493</td><td>   5.687543</td><td> 15.05588</td><td>  9.123011</td><td>  9.093051</td><td>  13.83320</td><td>  6.618154</td><td>⋯</td><td>   0.00000</td><td> 13.66594</td><td>  31.58344</td><td> 16.47155</td><td> 36.72967</td><td>  0.00000</td><td>  16.1777</td><td>  27.76737</td><td>  32.23779</td><td>  0.00000</td></tr>\n",
       "\t<tr><td>422.262599</td><td>764.31727</td><td> 398.48355</td><td>220.93375</td><td> 380.597333</td><td>306.72750</td><td>749.147406</td><td>189.941713</td><td> 236.82428</td><td>118.961675</td><td>⋯</td><td>  27.72743</td><td>245.19624</td><td> 195.71900</td><td>193.77366</td><td>130.12552</td><td>150.48913</td><td> 211.9328</td><td> 195.81789</td><td>  62.62917</td><td>169.09956</td></tr>\n",
       "\t<tr><td> 15.231466</td><td> 11.83073</td><td>  22.34344</td><td> 48.16927</td><td>  14.994143</td><td> 71.44697</td><td> 16.898497</td><td> 31.185646</td><td>  42.63707</td><td> 21.803211</td><td>⋯</td><td>  36.51676</td><td> 35.17008</td><td> 167.35250</td><td> 75.76537</td><td> 36.43402</td><td> 16.87607</td><td> 109.2697</td><td>  27.62698</td><td>  63.46889</td><td> 27.17836</td></tr>\n",
       "</tbody>\n",
       "</table>\n"
      ],
      "text/latex": [
       "A tibble: 6 × 83\n",
       "\\begin{tabular}{lllllllllllllllllllll}\n",
       " Plasmatocytes\\_anlage & Ectoderm\\_AISN & Brain\\_and\\_ventral\\_nerve\\_cord\\_1 & Crystal\\_cell & Brain\\_and\\_ventral\\_nerve\\_cord\\_2 & Sense\\_organs & Ventral\\_midline & Glutamatergic & Progenitor\\_cells\\_2 & Cholinergic & ⋯ & Chordotonal\\_organ & Muscle\\_system\\_2 & Salivary\\_gland\\_LS & Tracheal\\_system\\_3 & unknown\\_5 & Salivary\\_gland & Peptidergic\\_neuron & Germ\\_cells\\_testes & unknown\\_6 & Epicuticle\\\\\n",
       " <dbl> & <dbl> & <dbl> & <dbl> & <dbl> & <dbl> & <dbl> & <dbl> & <dbl> & <dbl> & ⋯ & <dbl> & <dbl> & <dbl> & <dbl> & <dbl> & <dbl> & <dbl> & <dbl> & <dbl> & <dbl>\\\\\n",
       "\\hline\n",
       "\t  15.241695 &  24.14500 &   74.59245 &  29.70623 &   56.657911 &  22.69280 &  14.834578 &  17.074740 &   94.58141 &  17.169612 & ⋯ &   21.62856 &  11.68572 &   41.89798 &  22.37504 &  54.27780 &  16.78895 &   42.0386 &   54.56579 &    0.00000 &  29.21273\\\\\n",
       "\t 580.910815 & 713.43372 & 1135.21335 & 329.41153 & 1283.186996 & 370.39666 & 419.684842 & 567.716250 & 1273.03428 & 730.362007 & ⋯ & 1471.89179 & 263.23349 & 1021.97848 & 401.48935 & 871.84311 & 525.21008 &  917.0983 &  697.40308 &  819.63023 & 435.79921\\\\\n",
       "\t 586.579637 & 524.80960 &  868.60631 & 464.63602 & 1005.481406 & 762.98100 & 528.719184 & 736.022175 & 1409.73679 & 727.118625 & ⋯ & 1920.91615 & 810.64477 & 1380.24216 & 643.19947 & 833.53693 & 604.55604 & 1130.8641 & 1018.59813 & 1044.84111 & 518.78156\\\\\n",
       "\t   1.901643 &  11.59448 &   14.72633 &   6.03493 &    5.687543 &  15.05588 &   9.123011 &   9.093051 &   13.83320 &   6.618154 & ⋯ &    0.00000 &  13.66594 &   31.58344 &  16.47155 &  36.72967 &   0.00000 &   16.1777 &   27.76737 &   32.23779 &   0.00000\\\\\n",
       "\t 422.262599 & 764.31727 &  398.48355 & 220.93375 &  380.597333 & 306.72750 & 749.147406 & 189.941713 &  236.82428 & 118.961675 & ⋯ &   27.72743 & 245.19624 &  195.71900 & 193.77366 & 130.12552 & 150.48913 &  211.9328 &  195.81789 &   62.62917 & 169.09956\\\\\n",
       "\t  15.231466 &  11.83073 &   22.34344 &  48.16927 &   14.994143 &  71.44697 &  16.898497 &  31.185646 &   42.63707 &  21.803211 & ⋯ &   36.51676 &  35.17008 &  167.35250 &  75.76537 &  36.43402 &  16.87607 &  109.2697 &   27.62698 &   63.46889 &  27.17836\\\\\n",
       "\\end{tabular}\n"
      ],
      "text/markdown": [
       "\n",
       "A tibble: 6 × 83\n",
       "\n",
       "| Plasmatocytes_anlage &lt;dbl&gt; | Ectoderm_AISN &lt;dbl&gt; | Brain_and_ventral_nerve_cord_1 &lt;dbl&gt; | Crystal_cell &lt;dbl&gt; | Brain_and_ventral_nerve_cord_2 &lt;dbl&gt; | Sense_organs &lt;dbl&gt; | Ventral_midline &lt;dbl&gt; | Glutamatergic &lt;dbl&gt; | Progenitor_cells_2 &lt;dbl&gt; | Cholinergic &lt;dbl&gt; | ⋯ ⋯ | Chordotonal_organ &lt;dbl&gt; | Muscle_system_2 &lt;dbl&gt; | Salivary_gland_LS &lt;dbl&gt; | Tracheal_system_3 &lt;dbl&gt; | unknown_5 &lt;dbl&gt; | Salivary_gland &lt;dbl&gt; | Peptidergic_neuron &lt;dbl&gt; | Germ_cells_testes &lt;dbl&gt; | unknown_6 &lt;dbl&gt; | Epicuticle &lt;dbl&gt; |\n",
       "|---|---|---|---|---|---|---|---|---|---|---|---|---|---|---|---|---|---|---|---|---|\n",
       "|  15.241695 |  24.14500 |   74.59245 |  29.70623 |   56.657911 |  22.69280 |  14.834578 |  17.074740 |   94.58141 |  17.169612 | ⋯ |   21.62856 |  11.68572 |   41.89798 |  22.37504 |  54.27780 |  16.78895 |   42.0386 |   54.56579 |    0.00000 |  29.21273 |\n",
       "| 580.910815 | 713.43372 | 1135.21335 | 329.41153 | 1283.186996 | 370.39666 | 419.684842 | 567.716250 | 1273.03428 | 730.362007 | ⋯ | 1471.89179 | 263.23349 | 1021.97848 | 401.48935 | 871.84311 | 525.21008 |  917.0983 |  697.40308 |  819.63023 | 435.79921 |\n",
       "| 586.579637 | 524.80960 |  868.60631 | 464.63602 | 1005.481406 | 762.98100 | 528.719184 | 736.022175 | 1409.73679 | 727.118625 | ⋯ | 1920.91615 | 810.64477 | 1380.24216 | 643.19947 | 833.53693 | 604.55604 | 1130.8641 | 1018.59813 | 1044.84111 | 518.78156 |\n",
       "|   1.901643 |  11.59448 |   14.72633 |   6.03493 |    5.687543 |  15.05588 |   9.123011 |   9.093051 |   13.83320 |   6.618154 | ⋯ |    0.00000 |  13.66594 |   31.58344 |  16.47155 |  36.72967 |   0.00000 |   16.1777 |   27.76737 |   32.23779 |   0.00000 |\n",
       "| 422.262599 | 764.31727 |  398.48355 | 220.93375 |  380.597333 | 306.72750 | 749.147406 | 189.941713 |  236.82428 | 118.961675 | ⋯ |   27.72743 | 245.19624 |  195.71900 | 193.77366 | 130.12552 | 150.48913 |  211.9328 |  195.81789 |   62.62917 | 169.09956 |\n",
       "|  15.231466 |  11.83073 |   22.34344 |  48.16927 |   14.994143 |  71.44697 |  16.898497 |  31.185646 |   42.63707 |  21.803211 | ⋯ |   36.51676 |  35.17008 |  167.35250 |  75.76537 |  36.43402 |  16.87607 |  109.2697 |   27.62698 |   63.46889 |  27.17836 |\n",
       "\n"
      ],
      "text/plain": [
       "  Plasmatocytes_anlage Ectoderm_AISN Brain_and_ventral_nerve_cord_1\n",
       "1  15.241695            24.14500       74.59245                    \n",
       "2 580.910815           713.43372     1135.21335                    \n",
       "3 586.579637           524.80960      868.60631                    \n",
       "4   1.901643            11.59448       14.72633                    \n",
       "5 422.262599           764.31727      398.48355                    \n",
       "6  15.231466            11.83073       22.34344                    \n",
       "  Crystal_cell Brain_and_ventral_nerve_cord_2 Sense_organs Ventral_midline\n",
       "1  29.70623      56.657911                     22.69280     14.834578     \n",
       "2 329.41153    1283.186996                    370.39666    419.684842     \n",
       "3 464.63602    1005.481406                    762.98100    528.719184     \n",
       "4   6.03493       5.687543                     15.05588      9.123011     \n",
       "5 220.93375     380.597333                    306.72750    749.147406     \n",
       "6  48.16927      14.994143                     71.44697     16.898497     \n",
       "  Glutamatergic Progenitor_cells_2 Cholinergic ⋯ Chordotonal_organ\n",
       "1  17.074740      94.58141          17.169612  ⋯   21.62856       \n",
       "2 567.716250    1273.03428         730.362007  ⋯ 1471.89179       \n",
       "3 736.022175    1409.73679         727.118625  ⋯ 1920.91615       \n",
       "4   9.093051      13.83320           6.618154  ⋯    0.00000       \n",
       "5 189.941713     236.82428         118.961675  ⋯   27.72743       \n",
       "6  31.185646      42.63707          21.803211  ⋯   36.51676       \n",
       "  Muscle_system_2 Salivary_gland_LS Tracheal_system_3 unknown_5 Salivary_gland\n",
       "1  11.68572         41.89798         22.37504          54.27780  16.78895     \n",
       "2 263.23349       1021.97848        401.48935         871.84311 525.21008     \n",
       "3 810.64477       1380.24216        643.19947         833.53693 604.55604     \n",
       "4  13.66594         31.58344         16.47155          36.72967   0.00000     \n",
       "5 245.19624        195.71900        193.77366         130.12552 150.48913     \n",
       "6  35.17008        167.35250         75.76537          36.43402  16.87607     \n",
       "  Peptidergic_neuron Germ_cells_testes unknown_6  Epicuticle\n",
       "1   42.0386            54.56579           0.00000  29.21273 \n",
       "2  917.0983           697.40308         819.63023 435.79921 \n",
       "3 1130.8641          1018.59813        1044.84111 518.78156 \n",
       "4   16.1777            27.76737          32.23779   0.00000 \n",
       "5  211.9328           195.81789          62.62917 169.09956 \n",
       "6  109.2697            27.62698          63.46889  27.17836 "
      ]
     },
     "metadata": {},
     "output_type": "display_data"
    }
   ],
   "source": [
    "## This has lost the column names!\n",
    "head(exp_matrix)"
   ]
  },
  {
   "cell_type": "markdown",
   "metadata": {},
   "source": [
    "## Get bootstrap matrix"
   ]
  },
  {
   "cell_type": "code",
   "execution_count": 26,
   "metadata": {},
   "outputs": [
    {
     "name": "stderr",
     "output_type": "stream",
     "text": [
      "\u001b[1mRows: \u001b[22m\u001b[34m13938\u001b[39m \u001b[1mColumns: \u001b[22m\u001b[34m84\u001b[39m\n",
      "\u001b[36m──\u001b[39m \u001b[1mColumn specification\u001b[22m \u001b[36m──────────────────────────────────────────────────────────────────────────────────────────────────────────────────────────────────────────\u001b[39m\n",
      "\u001b[1mDelimiter:\u001b[22m \"\\t\"\n",
      "\u001b[31mchr\u001b[39m  (1): Gene\n",
      "\u001b[32mdbl\u001b[39m (83): Plasmatocytes_anlage, Ectoderm_AISN, Brain_and_ventral_nerve_cord_...\n",
      "\n",
      "\u001b[36mℹ\u001b[39m Use `spec()` to retrieve the full column specification for this data.\n",
      "\u001b[36mℹ\u001b[39m Specify the column types or set `show_col_types = FALSE` to quiet this message.\n"
     ]
    }
   ],
   "source": [
    "exp_matrix_boot = read_tsv(\"data/cds_fly_pca300_vers3.final.annotation.bootstrapTPM.tsv\")"
   ]
  },
  {
   "cell_type": "code",
   "execution_count": 27,
   "metadata": {},
   "outputs": [
    {
     "data": {
      "text/html": [
       "<table class=\"dataframe\">\n",
       "<caption>A tibble: 6 × 84</caption>\n",
       "<thead>\n",
       "\t<tr><th scope=col>Gene</th><th scope=col>Plasmatocytes_anlage</th><th scope=col>Ectoderm_AISN</th><th scope=col>Brain_and_ventral_nerve_cord_1</th><th scope=col>Crystal_cell</th><th scope=col>Brain_and_ventral_nerve_cord_2</th><th scope=col>Sense_organs</th><th scope=col>Ventral_midline</th><th scope=col>Glutamatergic</th><th scope=col>Progenitor_cells_2</th><th scope=col>⋯</th><th scope=col>Chordotonal_organ</th><th scope=col>Muscle_system_2</th><th scope=col>Salivary_gland_LS</th><th scope=col>Tracheal_system_3</th><th scope=col>unknown_5</th><th scope=col>Salivary_gland</th><th scope=col>Peptidergic_neuron</th><th scope=col>Germ_cells_testes</th><th scope=col>unknown_6</th><th scope=col>Epicuticle</th></tr>\n",
       "\t<tr><th scope=col>&lt;chr&gt;</th><th scope=col>&lt;dbl&gt;</th><th scope=col>&lt;dbl&gt;</th><th scope=col>&lt;dbl&gt;</th><th scope=col>&lt;dbl&gt;</th><th scope=col>&lt;dbl&gt;</th><th scope=col>&lt;dbl&gt;</th><th scope=col>&lt;dbl&gt;</th><th scope=col>&lt;dbl&gt;</th><th scope=col>&lt;dbl&gt;</th><th scope=col>⋯</th><th scope=col>&lt;dbl&gt;</th><th scope=col>&lt;dbl&gt;</th><th scope=col>&lt;dbl&gt;</th><th scope=col>&lt;dbl&gt;</th><th scope=col>&lt;dbl&gt;</th><th scope=col>&lt;dbl&gt;</th><th scope=col>&lt;dbl&gt;</th><th scope=col>&lt;dbl&gt;</th><th scope=col>&lt;dbl&gt;</th><th scope=col>&lt;dbl&gt;</th></tr>\n",
       "</thead>\n",
       "<tbody>\n",
       "\t<tr><td>128up        </td><td> 15.241695</td><td> 24.14500</td><td>  74.59245</td><td> 29.70623</td><td>  56.657911</td><td> 22.69280</td><td> 14.834578</td><td> 17.074740</td><td>  94.58141</td><td>⋯</td><td>  21.62856</td><td> 11.68572</td><td>  41.89798</td><td> 22.37504</td><td> 54.27780</td><td> 16.78895</td><td>  42.0386</td><td>  54.56579</td><td>   0.00000</td><td> 29.21273</td></tr>\n",
       "\t<tr><td>14-3-3epsilon</td><td>580.910815</td><td>713.43372</td><td>1135.21335</td><td>329.41153</td><td>1283.186996</td><td>370.39666</td><td>419.684842</td><td>567.716250</td><td>1273.03428</td><td>⋯</td><td>1471.89179</td><td>263.23349</td><td>1021.97848</td><td>401.48935</td><td>871.84311</td><td>525.21008</td><td> 917.0983</td><td> 697.40308</td><td> 819.63023</td><td>435.79921</td></tr>\n",
       "\t<tr><td>14-3-3zeta   </td><td>586.579637</td><td>524.80960</td><td> 868.60631</td><td>464.63602</td><td>1005.481406</td><td>762.98100</td><td>528.719184</td><td>736.022175</td><td>1409.73679</td><td>⋯</td><td>1920.91615</td><td>810.64477</td><td>1380.24216</td><td>643.19947</td><td>833.53693</td><td>604.55604</td><td>1130.8641</td><td>1018.59813</td><td>1044.84111</td><td>518.78156</td></tr>\n",
       "\t<tr><td>140up        </td><td>  1.901643</td><td> 11.59448</td><td>  14.72633</td><td>  6.03493</td><td>   5.687543</td><td> 15.05588</td><td>  9.123011</td><td>  9.093051</td><td>  13.83320</td><td>⋯</td><td>   0.00000</td><td> 13.66594</td><td>  31.58344</td><td> 16.47155</td><td> 36.72967</td><td>  0.00000</td><td>  16.1777</td><td>  27.76737</td><td>  32.23779</td><td>  0.00000</td></tr>\n",
       "\t<tr><td>18w          </td><td>422.262599</td><td>764.31727</td><td> 398.48355</td><td>220.93375</td><td> 380.597333</td><td>306.72750</td><td>749.147406</td><td>189.941713</td><td> 236.82428</td><td>⋯</td><td>  27.72743</td><td>245.19624</td><td> 195.71900</td><td>193.77366</td><td>130.12552</td><td>150.48913</td><td> 211.9328</td><td> 195.81789</td><td>  62.62917</td><td>169.09956</td></tr>\n",
       "\t<tr><td>26-29-p      </td><td> 15.231466</td><td> 11.83073</td><td>  22.34344</td><td> 48.16927</td><td>  14.994143</td><td> 71.44697</td><td> 16.898497</td><td> 31.185646</td><td>  42.63707</td><td>⋯</td><td>  36.51676</td><td> 35.17008</td><td> 167.35250</td><td> 75.76537</td><td> 36.43402</td><td> 16.87607</td><td> 109.2697</td><td>  27.62698</td><td>  63.46889</td><td> 27.17836</td></tr>\n",
       "</tbody>\n",
       "</table>\n"
      ],
      "text/latex": [
       "A tibble: 6 × 84\n",
       "\\begin{tabular}{lllllllllllllllllllll}\n",
       " Gene & Plasmatocytes\\_anlage & Ectoderm\\_AISN & Brain\\_and\\_ventral\\_nerve\\_cord\\_1 & Crystal\\_cell & Brain\\_and\\_ventral\\_nerve\\_cord\\_2 & Sense\\_organs & Ventral\\_midline & Glutamatergic & Progenitor\\_cells\\_2 & ⋯ & Chordotonal\\_organ & Muscle\\_system\\_2 & Salivary\\_gland\\_LS & Tracheal\\_system\\_3 & unknown\\_5 & Salivary\\_gland & Peptidergic\\_neuron & Germ\\_cells\\_testes & unknown\\_6 & Epicuticle\\\\\n",
       " <chr> & <dbl> & <dbl> & <dbl> & <dbl> & <dbl> & <dbl> & <dbl> & <dbl> & <dbl> & ⋯ & <dbl> & <dbl> & <dbl> & <dbl> & <dbl> & <dbl> & <dbl> & <dbl> & <dbl> & <dbl>\\\\\n",
       "\\hline\n",
       "\t 128up         &  15.241695 &  24.14500 &   74.59245 &  29.70623 &   56.657911 &  22.69280 &  14.834578 &  17.074740 &   94.58141 & ⋯ &   21.62856 &  11.68572 &   41.89798 &  22.37504 &  54.27780 &  16.78895 &   42.0386 &   54.56579 &    0.00000 &  29.21273\\\\\n",
       "\t 14-3-3epsilon & 580.910815 & 713.43372 & 1135.21335 & 329.41153 & 1283.186996 & 370.39666 & 419.684842 & 567.716250 & 1273.03428 & ⋯ & 1471.89179 & 263.23349 & 1021.97848 & 401.48935 & 871.84311 & 525.21008 &  917.0983 &  697.40308 &  819.63023 & 435.79921\\\\\n",
       "\t 14-3-3zeta    & 586.579637 & 524.80960 &  868.60631 & 464.63602 & 1005.481406 & 762.98100 & 528.719184 & 736.022175 & 1409.73679 & ⋯ & 1920.91615 & 810.64477 & 1380.24216 & 643.19947 & 833.53693 & 604.55604 & 1130.8641 & 1018.59813 & 1044.84111 & 518.78156\\\\\n",
       "\t 140up         &   1.901643 &  11.59448 &   14.72633 &   6.03493 &    5.687543 &  15.05588 &   9.123011 &   9.093051 &   13.83320 & ⋯ &    0.00000 &  13.66594 &   31.58344 &  16.47155 &  36.72967 &   0.00000 &   16.1777 &   27.76737 &   32.23779 &   0.00000\\\\\n",
       "\t 18w           & 422.262599 & 764.31727 &  398.48355 & 220.93375 &  380.597333 & 306.72750 & 749.147406 & 189.941713 &  236.82428 & ⋯ &   27.72743 & 245.19624 &  195.71900 & 193.77366 & 130.12552 & 150.48913 &  211.9328 &  195.81789 &   62.62917 & 169.09956\\\\\n",
       "\t 26-29-p       &  15.231466 &  11.83073 &   22.34344 &  48.16927 &   14.994143 &  71.44697 &  16.898497 &  31.185646 &   42.63707 & ⋯ &   36.51676 &  35.17008 &  167.35250 &  75.76537 &  36.43402 &  16.87607 &  109.2697 &   27.62698 &   63.46889 &  27.17836\\\\\n",
       "\\end{tabular}\n"
      ],
      "text/markdown": [
       "\n",
       "A tibble: 6 × 84\n",
       "\n",
       "| Gene &lt;chr&gt; | Plasmatocytes_anlage &lt;dbl&gt; | Ectoderm_AISN &lt;dbl&gt; | Brain_and_ventral_nerve_cord_1 &lt;dbl&gt; | Crystal_cell &lt;dbl&gt; | Brain_and_ventral_nerve_cord_2 &lt;dbl&gt; | Sense_organs &lt;dbl&gt; | Ventral_midline &lt;dbl&gt; | Glutamatergic &lt;dbl&gt; | Progenitor_cells_2 &lt;dbl&gt; | ⋯ ⋯ | Chordotonal_organ &lt;dbl&gt; | Muscle_system_2 &lt;dbl&gt; | Salivary_gland_LS &lt;dbl&gt; | Tracheal_system_3 &lt;dbl&gt; | unknown_5 &lt;dbl&gt; | Salivary_gland &lt;dbl&gt; | Peptidergic_neuron &lt;dbl&gt; | Germ_cells_testes &lt;dbl&gt; | unknown_6 &lt;dbl&gt; | Epicuticle &lt;dbl&gt; |\n",
       "|---|---|---|---|---|---|---|---|---|---|---|---|---|---|---|---|---|---|---|---|---|\n",
       "| 128up         |  15.241695 |  24.14500 |   74.59245 |  29.70623 |   56.657911 |  22.69280 |  14.834578 |  17.074740 |   94.58141 | ⋯ |   21.62856 |  11.68572 |   41.89798 |  22.37504 |  54.27780 |  16.78895 |   42.0386 |   54.56579 |    0.00000 |  29.21273 |\n",
       "| 14-3-3epsilon | 580.910815 | 713.43372 | 1135.21335 | 329.41153 | 1283.186996 | 370.39666 | 419.684842 | 567.716250 | 1273.03428 | ⋯ | 1471.89179 | 263.23349 | 1021.97848 | 401.48935 | 871.84311 | 525.21008 |  917.0983 |  697.40308 |  819.63023 | 435.79921 |\n",
       "| 14-3-3zeta    | 586.579637 | 524.80960 |  868.60631 | 464.63602 | 1005.481406 | 762.98100 | 528.719184 | 736.022175 | 1409.73679 | ⋯ | 1920.91615 | 810.64477 | 1380.24216 | 643.19947 | 833.53693 | 604.55604 | 1130.8641 | 1018.59813 | 1044.84111 | 518.78156 |\n",
       "| 140up         |   1.901643 |  11.59448 |   14.72633 |   6.03493 |    5.687543 |  15.05588 |   9.123011 |   9.093051 |   13.83320 | ⋯ |    0.00000 |  13.66594 |   31.58344 |  16.47155 |  36.72967 |   0.00000 |   16.1777 |   27.76737 |   32.23779 |   0.00000 |\n",
       "| 18w           | 422.262599 | 764.31727 |  398.48355 | 220.93375 |  380.597333 | 306.72750 | 749.147406 | 189.941713 |  236.82428 | ⋯ |   27.72743 | 245.19624 |  195.71900 | 193.77366 | 130.12552 | 150.48913 |  211.9328 |  195.81789 |   62.62917 | 169.09956 |\n",
       "| 26-29-p       |  15.231466 |  11.83073 |   22.34344 |  48.16927 |   14.994143 |  71.44697 |  16.898497 |  31.185646 |   42.63707 | ⋯ |   36.51676 |  35.17008 |  167.35250 |  75.76537 |  36.43402 |  16.87607 |  109.2697 |   27.62698 |   63.46889 |  27.17836 |\n",
       "\n"
      ],
      "text/plain": [
       "  Gene          Plasmatocytes_anlage Ectoderm_AISN\n",
       "1 128up          15.241695            24.14500    \n",
       "2 14-3-3epsilon 580.910815           713.43372    \n",
       "3 14-3-3zeta    586.579637           524.80960    \n",
       "4 140up           1.901643            11.59448    \n",
       "5 18w           422.262599           764.31727    \n",
       "6 26-29-p        15.231466            11.83073    \n",
       "  Brain_and_ventral_nerve_cord_1 Crystal_cell Brain_and_ventral_nerve_cord_2\n",
       "1   74.59245                      29.70623      56.657911                   \n",
       "2 1135.21335                     329.41153    1283.186996                   \n",
       "3  868.60631                     464.63602    1005.481406                   \n",
       "4   14.72633                       6.03493       5.687543                   \n",
       "5  398.48355                     220.93375     380.597333                   \n",
       "6   22.34344                      48.16927      14.994143                   \n",
       "  Sense_organs Ventral_midline Glutamatergic Progenitor_cells_2 ⋯\n",
       "1  22.69280     14.834578       17.074740      94.58141         ⋯\n",
       "2 370.39666    419.684842      567.716250    1273.03428         ⋯\n",
       "3 762.98100    528.719184      736.022175    1409.73679         ⋯\n",
       "4  15.05588      9.123011        9.093051      13.83320         ⋯\n",
       "5 306.72750    749.147406      189.941713     236.82428         ⋯\n",
       "6  71.44697     16.898497       31.185646      42.63707         ⋯\n",
       "  Chordotonal_organ Muscle_system_2 Salivary_gland_LS Tracheal_system_3\n",
       "1   21.62856         11.68572         41.89798         22.37504        \n",
       "2 1471.89179        263.23349       1021.97848        401.48935        \n",
       "3 1920.91615        810.64477       1380.24216        643.19947        \n",
       "4    0.00000         13.66594         31.58344         16.47155        \n",
       "5   27.72743        245.19624        195.71900        193.77366        \n",
       "6   36.51676         35.17008        167.35250         75.76537        \n",
       "  unknown_5 Salivary_gland Peptidergic_neuron Germ_cells_testes unknown_6 \n",
       "1  54.27780  16.78895        42.0386            54.56579           0.00000\n",
       "2 871.84311 525.21008       917.0983           697.40308         819.63023\n",
       "3 833.53693 604.55604      1130.8641          1018.59813        1044.84111\n",
       "4  36.72967   0.00000        16.1777            27.76737          32.23779\n",
       "5 130.12552 150.48913       211.9328           195.81789          62.62917\n",
       "6  36.43402  16.87607       109.2697            27.62698          63.46889\n",
       "  Epicuticle\n",
       "1  29.21273 \n",
       "2 435.79921 \n",
       "3 518.78156 \n",
       "4   0.00000 \n",
       "5 169.09956 \n",
       "6  27.17836 "
      ]
     },
     "metadata": {},
     "output_type": "display_data"
    }
   ],
   "source": [
    "head(exp_matrix_boot)"
   ]
  },
  {
   "cell_type": "markdown",
   "metadata": {},
   "source": [
    "## fix the names in th matrix to match the target nemes"
   ]
  },
  {
   "cell_type": "code",
   "execution_count": 28,
   "metadata": {},
   "outputs": [],
   "source": [
    "peak_matrix_ids = readRDS(\"data/fly_gene_name_translations.rds\")"
   ]
  },
  {
   "cell_type": "code",
   "execution_count": 29,
   "metadata": {},
   "outputs": [],
   "source": [
    "exp_matrix = left_join(exp_matrix_boot, peak_matrix_ids %>% select(Submitted_ID_matrix, FBID_key_matrix, Submitted_ID_peak), \n",
    "          by = c(\"Gene\" = \"Submitted_ID_matrix\"))"
   ]
  },
  {
   "cell_type": "code",
   "execution_count": 30,
   "metadata": {},
   "outputs": [],
   "source": [
    "exp_matrix = exp_matrix  %>% mutate(Submitted_combined = \n",
    "                            ifelse(is.na(exp_matrix$Submitted_ID_peak), Gene, Submitted_ID_peak)) "
   ]
  },
  {
   "cell_type": "code",
   "execution_count": 31,
   "metadata": {},
   "outputs": [],
   "source": [
    "exp_matrix = column_to_rownames(exp_matrix, var = \"Submitted_combined\")"
   ]
  },
  {
   "cell_type": "code",
   "execution_count": 32,
   "metadata": {},
   "outputs": [],
   "source": [
    "exp_matrix$Submitted_ID_peak = NULL\n",
    "exp_matrix$FBID_key_matrix = NULL\n",
    "exp_matrix$Gene = NULL"
   ]
  },
  {
   "cell_type": "code",
   "execution_count": 33,
   "metadata": {},
   "outputs": [
    {
     "data": {
      "text/html": [
       "<table class=\"dataframe\">\n",
       "<caption>A data.frame: 6 × 83</caption>\n",
       "<thead>\n",
       "\t<tr><th></th><th scope=col>Plasmatocytes_anlage</th><th scope=col>Ectoderm_AISN</th><th scope=col>Brain_and_ventral_nerve_cord_1</th><th scope=col>Crystal_cell</th><th scope=col>Brain_and_ventral_nerve_cord_2</th><th scope=col>Sense_organs</th><th scope=col>Ventral_midline</th><th scope=col>Glutamatergic</th><th scope=col>Progenitor_cells_2</th><th scope=col>Cholinergic</th><th scope=col>⋯</th><th scope=col>Chordotonal_organ</th><th scope=col>Muscle_system_2</th><th scope=col>Salivary_gland_LS</th><th scope=col>Tracheal_system_3</th><th scope=col>unknown_5</th><th scope=col>Salivary_gland</th><th scope=col>Peptidergic_neuron</th><th scope=col>Germ_cells_testes</th><th scope=col>unknown_6</th><th scope=col>Epicuticle</th></tr>\n",
       "\t<tr><th></th><th scope=col>&lt;dbl&gt;</th><th scope=col>&lt;dbl&gt;</th><th scope=col>&lt;dbl&gt;</th><th scope=col>&lt;dbl&gt;</th><th scope=col>&lt;dbl&gt;</th><th scope=col>&lt;dbl&gt;</th><th scope=col>&lt;dbl&gt;</th><th scope=col>&lt;dbl&gt;</th><th scope=col>&lt;dbl&gt;</th><th scope=col>&lt;dbl&gt;</th><th scope=col>⋯</th><th scope=col>&lt;dbl&gt;</th><th scope=col>&lt;dbl&gt;</th><th scope=col>&lt;dbl&gt;</th><th scope=col>&lt;dbl&gt;</th><th scope=col>&lt;dbl&gt;</th><th scope=col>&lt;dbl&gt;</th><th scope=col>&lt;dbl&gt;</th><th scope=col>&lt;dbl&gt;</th><th scope=col>&lt;dbl&gt;</th><th scope=col>&lt;dbl&gt;</th></tr>\n",
       "</thead>\n",
       "<tbody>\n",
       "\t<tr><th scope=row>128up</th><td> 15.241695</td><td> 24.14500</td><td>  74.59245</td><td> 29.70623</td><td>  56.657911</td><td> 22.69280</td><td> 14.834578</td><td> 17.074740</td><td>  94.58141</td><td> 17.169612</td><td>⋯</td><td>  21.62856</td><td> 11.68572</td><td>  41.89798</td><td> 22.37504</td><td> 54.27780</td><td> 16.78895</td><td>  42.0386</td><td>  54.56579</td><td>   0.00000</td><td> 29.21273</td></tr>\n",
       "\t<tr><th scope=row>14-3-3epsilon</th><td>580.910815</td><td>713.43372</td><td>1135.21335</td><td>329.41153</td><td>1283.186996</td><td>370.39666</td><td>419.684842</td><td>567.716250</td><td>1273.03428</td><td>730.362007</td><td>⋯</td><td>1471.89179</td><td>263.23349</td><td>1021.97848</td><td>401.48935</td><td>871.84311</td><td>525.21008</td><td> 917.0983</td><td> 697.40308</td><td> 819.63023</td><td>435.79921</td></tr>\n",
       "\t<tr><th scope=row>14-3-3zeta</th><td>586.579637</td><td>524.80960</td><td> 868.60631</td><td>464.63602</td><td>1005.481406</td><td>762.98100</td><td>528.719184</td><td>736.022175</td><td>1409.73679</td><td>727.118625</td><td>⋯</td><td>1920.91615</td><td>810.64477</td><td>1380.24216</td><td>643.19947</td><td>833.53693</td><td>604.55604</td><td>1130.8641</td><td>1018.59813</td><td>1044.84111</td><td>518.78156</td></tr>\n",
       "\t<tr><th scope=row>140up</th><td>  1.901643</td><td> 11.59448</td><td>  14.72633</td><td>  6.03493</td><td>   5.687543</td><td> 15.05588</td><td>  9.123011</td><td>  9.093051</td><td>  13.83320</td><td>  6.618154</td><td>⋯</td><td>   0.00000</td><td> 13.66594</td><td>  31.58344</td><td> 16.47155</td><td> 36.72967</td><td>  0.00000</td><td>  16.1777</td><td>  27.76737</td><td>  32.23779</td><td>  0.00000</td></tr>\n",
       "\t<tr><th scope=row>18w</th><td>422.262599</td><td>764.31727</td><td> 398.48355</td><td>220.93375</td><td> 380.597333</td><td>306.72750</td><td>749.147406</td><td>189.941713</td><td> 236.82428</td><td>118.961675</td><td>⋯</td><td>  27.72743</td><td>245.19624</td><td> 195.71900</td><td>193.77366</td><td>130.12552</td><td>150.48913</td><td> 211.9328</td><td> 195.81789</td><td>  62.62917</td><td>169.09956</td></tr>\n",
       "\t<tr><th scope=row>26-29-p</th><td> 15.231466</td><td> 11.83073</td><td>  22.34344</td><td> 48.16927</td><td>  14.994143</td><td> 71.44697</td><td> 16.898497</td><td> 31.185646</td><td>  42.63707</td><td> 21.803211</td><td>⋯</td><td>  36.51676</td><td> 35.17008</td><td> 167.35250</td><td> 75.76537</td><td> 36.43402</td><td> 16.87607</td><td> 109.2697</td><td>  27.62698</td><td>  63.46889</td><td> 27.17836</td></tr>\n",
       "</tbody>\n",
       "</table>\n"
      ],
      "text/latex": [
       "A data.frame: 6 × 83\n",
       "\\begin{tabular}{r|lllllllllllllllllllll}\n",
       "  & Plasmatocytes\\_anlage & Ectoderm\\_AISN & Brain\\_and\\_ventral\\_nerve\\_cord\\_1 & Crystal\\_cell & Brain\\_and\\_ventral\\_nerve\\_cord\\_2 & Sense\\_organs & Ventral\\_midline & Glutamatergic & Progenitor\\_cells\\_2 & Cholinergic & ⋯ & Chordotonal\\_organ & Muscle\\_system\\_2 & Salivary\\_gland\\_LS & Tracheal\\_system\\_3 & unknown\\_5 & Salivary\\_gland & Peptidergic\\_neuron & Germ\\_cells\\_testes & unknown\\_6 & Epicuticle\\\\\n",
       "  & <dbl> & <dbl> & <dbl> & <dbl> & <dbl> & <dbl> & <dbl> & <dbl> & <dbl> & <dbl> & ⋯ & <dbl> & <dbl> & <dbl> & <dbl> & <dbl> & <dbl> & <dbl> & <dbl> & <dbl> & <dbl>\\\\\n",
       "\\hline\n",
       "\t128up &  15.241695 &  24.14500 &   74.59245 &  29.70623 &   56.657911 &  22.69280 &  14.834578 &  17.074740 &   94.58141 &  17.169612 & ⋯ &   21.62856 &  11.68572 &   41.89798 &  22.37504 &  54.27780 &  16.78895 &   42.0386 &   54.56579 &    0.00000 &  29.21273\\\\\n",
       "\t14-3-3epsilon & 580.910815 & 713.43372 & 1135.21335 & 329.41153 & 1283.186996 & 370.39666 & 419.684842 & 567.716250 & 1273.03428 & 730.362007 & ⋯ & 1471.89179 & 263.23349 & 1021.97848 & 401.48935 & 871.84311 & 525.21008 &  917.0983 &  697.40308 &  819.63023 & 435.79921\\\\\n",
       "\t14-3-3zeta & 586.579637 & 524.80960 &  868.60631 & 464.63602 & 1005.481406 & 762.98100 & 528.719184 & 736.022175 & 1409.73679 & 727.118625 & ⋯ & 1920.91615 & 810.64477 & 1380.24216 & 643.19947 & 833.53693 & 604.55604 & 1130.8641 & 1018.59813 & 1044.84111 & 518.78156\\\\\n",
       "\t140up &   1.901643 &  11.59448 &   14.72633 &   6.03493 &    5.687543 &  15.05588 &   9.123011 &   9.093051 &   13.83320 &   6.618154 & ⋯ &    0.00000 &  13.66594 &   31.58344 &  16.47155 &  36.72967 &   0.00000 &   16.1777 &   27.76737 &   32.23779 &   0.00000\\\\\n",
       "\t18w & 422.262599 & 764.31727 &  398.48355 & 220.93375 &  380.597333 & 306.72750 & 749.147406 & 189.941713 &  236.82428 & 118.961675 & ⋯ &   27.72743 & 245.19624 &  195.71900 & 193.77366 & 130.12552 & 150.48913 &  211.9328 &  195.81789 &   62.62917 & 169.09956\\\\\n",
       "\t26-29-p &  15.231466 &  11.83073 &   22.34344 &  48.16927 &   14.994143 &  71.44697 &  16.898497 &  31.185646 &   42.63707 &  21.803211 & ⋯ &   36.51676 &  35.17008 &  167.35250 &  75.76537 &  36.43402 &  16.87607 &  109.2697 &   27.62698 &   63.46889 &  27.17836\\\\\n",
       "\\end{tabular}\n"
      ],
      "text/markdown": [
       "\n",
       "A data.frame: 6 × 83\n",
       "\n",
       "| <!--/--> | Plasmatocytes_anlage &lt;dbl&gt; | Ectoderm_AISN &lt;dbl&gt; | Brain_and_ventral_nerve_cord_1 &lt;dbl&gt; | Crystal_cell &lt;dbl&gt; | Brain_and_ventral_nerve_cord_2 &lt;dbl&gt; | Sense_organs &lt;dbl&gt; | Ventral_midline &lt;dbl&gt; | Glutamatergic &lt;dbl&gt; | Progenitor_cells_2 &lt;dbl&gt; | Cholinergic &lt;dbl&gt; | ⋯ ⋯ | Chordotonal_organ &lt;dbl&gt; | Muscle_system_2 &lt;dbl&gt; | Salivary_gland_LS &lt;dbl&gt; | Tracheal_system_3 &lt;dbl&gt; | unknown_5 &lt;dbl&gt; | Salivary_gland &lt;dbl&gt; | Peptidergic_neuron &lt;dbl&gt; | Germ_cells_testes &lt;dbl&gt; | unknown_6 &lt;dbl&gt; | Epicuticle &lt;dbl&gt; |\n",
       "|---|---|---|---|---|---|---|---|---|---|---|---|---|---|---|---|---|---|---|---|---|---|\n",
       "| 128up |  15.241695 |  24.14500 |   74.59245 |  29.70623 |   56.657911 |  22.69280 |  14.834578 |  17.074740 |   94.58141 |  17.169612 | ⋯ |   21.62856 |  11.68572 |   41.89798 |  22.37504 |  54.27780 |  16.78895 |   42.0386 |   54.56579 |    0.00000 |  29.21273 |\n",
       "| 14-3-3epsilon | 580.910815 | 713.43372 | 1135.21335 | 329.41153 | 1283.186996 | 370.39666 | 419.684842 | 567.716250 | 1273.03428 | 730.362007 | ⋯ | 1471.89179 | 263.23349 | 1021.97848 | 401.48935 | 871.84311 | 525.21008 |  917.0983 |  697.40308 |  819.63023 | 435.79921 |\n",
       "| 14-3-3zeta | 586.579637 | 524.80960 |  868.60631 | 464.63602 | 1005.481406 | 762.98100 | 528.719184 | 736.022175 | 1409.73679 | 727.118625 | ⋯ | 1920.91615 | 810.64477 | 1380.24216 | 643.19947 | 833.53693 | 604.55604 | 1130.8641 | 1018.59813 | 1044.84111 | 518.78156 |\n",
       "| 140up |   1.901643 |  11.59448 |   14.72633 |   6.03493 |    5.687543 |  15.05588 |   9.123011 |   9.093051 |   13.83320 |   6.618154 | ⋯ |    0.00000 |  13.66594 |   31.58344 |  16.47155 |  36.72967 |   0.00000 |   16.1777 |   27.76737 |   32.23779 |   0.00000 |\n",
       "| 18w | 422.262599 | 764.31727 |  398.48355 | 220.93375 |  380.597333 | 306.72750 | 749.147406 | 189.941713 |  236.82428 | 118.961675 | ⋯ |   27.72743 | 245.19624 |  195.71900 | 193.77366 | 130.12552 | 150.48913 |  211.9328 |  195.81789 |   62.62917 | 169.09956 |\n",
       "| 26-29-p |  15.231466 |  11.83073 |   22.34344 |  48.16927 |   14.994143 |  71.44697 |  16.898497 |  31.185646 |   42.63707 |  21.803211 | ⋯ |   36.51676 |  35.17008 |  167.35250 |  75.76537 |  36.43402 |  16.87607 |  109.2697 |   27.62698 |   63.46889 |  27.17836 |\n",
       "\n"
      ],
      "text/plain": [
       "              Plasmatocytes_anlage Ectoderm_AISN Brain_and_ventral_nerve_cord_1\n",
       "128up          15.241695            24.14500       74.59245                    \n",
       "14-3-3epsilon 580.910815           713.43372     1135.21335                    \n",
       "14-3-3zeta    586.579637           524.80960      868.60631                    \n",
       "140up           1.901643            11.59448       14.72633                    \n",
       "18w           422.262599           764.31727      398.48355                    \n",
       "26-29-p        15.231466            11.83073       22.34344                    \n",
       "              Crystal_cell Brain_and_ventral_nerve_cord_2 Sense_organs\n",
       "128up          29.70623      56.657911                     22.69280   \n",
       "14-3-3epsilon 329.41153    1283.186996                    370.39666   \n",
       "14-3-3zeta    464.63602    1005.481406                    762.98100   \n",
       "140up           6.03493       5.687543                     15.05588   \n",
       "18w           220.93375     380.597333                    306.72750   \n",
       "26-29-p        48.16927      14.994143                     71.44697   \n",
       "              Ventral_midline Glutamatergic Progenitor_cells_2 Cholinergic ⋯\n",
       "128up          14.834578       17.074740      94.58141          17.169612  ⋯\n",
       "14-3-3epsilon 419.684842      567.716250    1273.03428         730.362007  ⋯\n",
       "14-3-3zeta    528.719184      736.022175    1409.73679         727.118625  ⋯\n",
       "140up           9.123011        9.093051      13.83320           6.618154  ⋯\n",
       "18w           749.147406      189.941713     236.82428         118.961675  ⋯\n",
       "26-29-p        16.898497       31.185646      42.63707          21.803211  ⋯\n",
       "              Chordotonal_organ Muscle_system_2 Salivary_gland_LS\n",
       "128up           21.62856         11.68572         41.89798       \n",
       "14-3-3epsilon 1471.89179        263.23349       1021.97848       \n",
       "14-3-3zeta    1920.91615        810.64477       1380.24216       \n",
       "140up            0.00000         13.66594         31.58344       \n",
       "18w             27.72743        245.19624        195.71900       \n",
       "26-29-p         36.51676         35.17008        167.35250       \n",
       "              Tracheal_system_3 unknown_5 Salivary_gland Peptidergic_neuron\n",
       "128up          22.37504          54.27780  16.78895        42.0386         \n",
       "14-3-3epsilon 401.48935         871.84311 525.21008       917.0983         \n",
       "14-3-3zeta    643.19947         833.53693 604.55604      1130.8641         \n",
       "140up          16.47155          36.72967   0.00000        16.1777         \n",
       "18w           193.77366         130.12552 150.48913       211.9328         \n",
       "26-29-p        75.76537          36.43402  16.87607       109.2697         \n",
       "              Germ_cells_testes unknown_6  Epicuticle\n",
       "128up           54.56579           0.00000  29.21273 \n",
       "14-3-3epsilon  697.40308         819.63023 435.79921 \n",
       "14-3-3zeta    1018.59813        1044.84111 518.78156 \n",
       "140up           27.76737          32.23779   0.00000 \n",
       "18w            195.81789          62.62917 169.09956 \n",
       "26-29-p         27.62698          63.46889  27.17836 "
      ]
     },
     "metadata": {},
     "output_type": "display_data"
    }
   ],
   "source": [
    "head(exp_matrix)"
   ]
  },
  {
   "cell_type": "markdown",
   "metadata": {},
   "source": [
    "## generate mean centered matrix"
   ]
  },
  {
   "cell_type": "code",
   "execution_count": 34,
   "metadata": {},
   "outputs": [],
   "source": [
    "exp_matrix_mean <-t(apply(exp_matrix,1, function(x) x - mean(x)))"
   ]
  },
  {
   "cell_type": "code",
   "execution_count": null,
   "metadata": {},
   "outputs": [],
   "source": []
  },
  {
   "cell_type": "code",
   "execution_count": 7,
   "metadata": {},
   "outputs": [],
   "source": [
    "fly_peaks_TF = readRDS( \"data/fly_peaks_TF_names_fixed.rds\")"
   ]
  },
  {
   "cell_type": "code",
   "execution_count": 6,
   "metadata": {},
   "outputs": [],
   "source": [
    "cbbPalette12a = c(\"#88CCEE\", \"#CC6677\", \"#DDCC77\", \"#117733\", \"#332288\", \"#AA4499\", \"#44AA99\",\n",
    "                 \"#882255\", \"#000000\",  \"#999933\", \"#661100\",\"#6699CC\")\n",
    "cbbPalette <- c( \"#D55E00\", \"#E69F00\", \"#56B4E9\", \n",
    "                 \"#F0E442\", \"#009E73\", \"#0072B2\",  \"#000000\", \"#CC79A7\",  \"#66CC99\")"
   ]
  },
  {
   "cell_type": "code",
   "execution_count": 10,
   "metadata": {},
   "outputs": [],
   "source": [
    "temp = exp_matrix_mean"
   ]
  },
  {
   "cell_type": "code",
   "execution_count": 11,
   "metadata": {},
   "outputs": [
    {
     "data": {
      "text/html": [
       "<style>\n",
       ".list-inline {list-style: none; margin:0; padding: 0}\n",
       ".list-inline>li {display: inline-block}\n",
       ".list-inline>li:not(:last-child)::after {content: \"\\00b7\"; padding: 0 .5ex}\n",
       "</style>\n",
       "<ol class=list-inline><li>'cbbPalette'</li><li>'cbbPalette12a'</li><li>'exp_matrix'</li><li>'exp_matrix_mean'</li><li>'file_name'</li><li>'fly_peaks_TF'</li><li>'gen'</li><li>'lb'</li><li>'ranklb'</li><li>'rankub'</li><li>'temp'</li><li>'tf'</li><li>'tfn'</li><li>'ub'</li></ol>\n"
      ],
      "text/latex": [
       "\\begin{enumerate*}\n",
       "\\item 'cbbPalette'\n",
       "\\item 'cbbPalette12a'\n",
       "\\item 'exp\\_matrix'\n",
       "\\item 'exp\\_matrix\\_mean'\n",
       "\\item 'file\\_name'\n",
       "\\item 'fly\\_peaks\\_TF'\n",
       "\\item 'gen'\n",
       "\\item 'lb'\n",
       "\\item 'ranklb'\n",
       "\\item 'rankub'\n",
       "\\item 'temp'\n",
       "\\item 'tf'\n",
       "\\item 'tfn'\n",
       "\\item 'ub'\n",
       "\\end{enumerate*}\n"
      ],
      "text/markdown": [
       "1. 'cbbPalette'\n",
       "2. 'cbbPalette12a'\n",
       "3. 'exp_matrix'\n",
       "4. 'exp_matrix_mean'\n",
       "5. 'file_name'\n",
       "6. 'fly_peaks_TF'\n",
       "7. 'gen'\n",
       "8. 'lb'\n",
       "9. 'ranklb'\n",
       "10. 'rankub'\n",
       "11. 'temp'\n",
       "12. 'tf'\n",
       "13. 'tfn'\n",
       "14. 'ub'\n",
       "\n",
       "\n"
      ],
      "text/plain": [
       " [1] \"cbbPalette\"      \"cbbPalette12a\"   \"exp_matrix\"      \"exp_matrix_mean\"\n",
       " [5] \"file_name\"       \"fly_peaks_TF\"    \"gen\"             \"lb\"             \n",
       " [9] \"ranklb\"          \"rankub\"          \"temp\"            \"tf\"             \n",
       "[13] \"tfn\"             \"ub\"             "
      ]
     },
     "metadata": {},
     "output_type": "display_data"
    }
   ],
   "source": [
    "ls()"
   ]
  },
  {
   "cell_type": "markdown",
   "metadata": {},
   "source": [
    "## Get the targets of HOT sites"
   ]
  },
  {
   "cell_type": "code",
   "execution_count": 12,
   "metadata": {},
   "outputs": [],
   "source": [
    "load(\"data/fly_files_for_Angles.RData\")"
   ]
  },
  {
   "cell_type": "code",
   "execution_count": 14,
   "metadata": {},
   "outputs": [],
   "source": [
    "## remove this from abovebecause it is not the bootstrap corrected\n",
    "rm(exp_matrix_fly_mean)"
   ]
  },
  {
   "cell_type": "code",
   "execution_count": 35,
   "metadata": {},
   "outputs": [],
   "source": [
    "exp_matrix_fly_mean = exp_matrix_mean"
   ]
  },
  {
   "cell_type": "code",
   "execution_count": 24,
   "metadata": {},
   "outputs": [
    {
     "data": {
      "text/html": [
       "<table class=\"dataframe\">\n",
       "<caption>A matrix: 6 × 83 of type dbl</caption>\n",
       "<thead>\n",
       "\t<tr><th scope=col>Plasmatocytes_anlage</th><th scope=col>Ectoderm_AISN</th><th scope=col>Brain_and_ventral_nerve_cord_1</th><th scope=col>Crystal_cell</th><th scope=col>Brain_and_ventral_nerve_cord_2</th><th scope=col>Sense_organs</th><th scope=col>Ventral_midline</th><th scope=col>Glutamatergic</th><th scope=col>Progenitor_cells_2</th><th scope=col>Cholinergic</th><th scope=col>⋯</th><th scope=col>Chordotonal_organ</th><th scope=col>Muscle_system_2</th><th scope=col>Salivary_gland_LS</th><th scope=col>Tracheal_system_3</th><th scope=col>unknown_5</th><th scope=col>Salivary_gland</th><th scope=col>Peptidergic_neuron</th><th scope=col>Germ_cells_testes</th><th scope=col>unknown_6</th><th scope=col>Epicuticle</th></tr>\n",
       "</thead>\n",
       "<tbody>\n",
       "\t<tr><td> -18.35125</td><td>  -9.447942</td><td> 40.9995113</td><td>  -3.886712</td><td> 23.064968</td><td> -10.9001382</td><td> -18.758364</td><td> -16.518203</td><td> 60.988470</td><td> -16.423331</td><td>⋯</td><td> -11.96438</td><td> -21.9072183</td><td>   8.305038</td><td> -11.217898</td><td>  20.68485</td><td> -16.80400</td><td>  8.445653</td><td>  20.97285</td><td> -33.592942</td><td>  -4.380217</td></tr>\n",
       "\t<tr><td> -53.79422</td><td>  78.728688</td><td>500.5083141</td><td>-305.293505</td><td>648.481960</td><td>-264.3083786</td><td>-215.020194</td><td> -66.988786</td><td>638.329241</td><td>  95.656971</td><td>⋯</td><td> 837.18676</td><td>-371.4715500</td><td> 387.273448</td><td>-233.215687</td><td> 237.13807</td><td>-109.49495</td><td>282.393295</td><td>  62.69805</td><td> 184.925192</td><td>-198.905830</td></tr>\n",
       "\t<tr><td>-270.38193</td><td>-332.151967</td><td> 11.6447393</td><td>-392.325555</td><td>148.519835</td><td> -93.9805692</td><td>-328.242387</td><td>-120.939397</td><td>552.775222</td><td>-129.842947</td><td>⋯</td><td>1063.95458</td><td> -46.3167989</td><td> 523.280588</td><td>-213.762100</td><td> -23.42464</td><td>-252.40554</td><td>273.902523</td><td> 161.63656</td><td> 187.879534</td><td>-338.180008</td></tr>\n",
       "\t<tr><td> -12.21951</td><td>  -2.526674</td><td>  0.6051765</td><td>  -8.086226</td><td> -8.433613</td><td>   0.9347226</td><td>  -4.998145</td><td>  -5.028105</td><td> -0.287955</td><td>  -7.503002</td><td>⋯</td><td> -14.12116</td><td>  -0.4552162</td><td>  17.462282</td><td>   2.350396</td><td>  22.60852</td><td> -14.12116</td><td>  2.056544</td><td>  13.64621</td><td>  18.116630</td><td> -14.121156</td></tr>\n",
       "\t<tr><td> 123.42354</td><td> 465.478215</td><td> 99.6444993</td><td> -77.905307</td><td> 81.758278</td><td>   7.8884434</td><td> 450.308351</td><td>-108.897342</td><td>-62.014770</td><td>-179.877380</td><td>⋯</td><td>-271.11163</td><td> -53.6428199</td><td>-103.120056</td><td>-105.065399</td><td>-168.71354</td><td>-148.34993</td><td>-86.906290</td><td>-103.02117</td><td>-236.209882</td><td>-129.739498</td></tr>\n",
       "\t<tr><td> -44.17595</td><td> -47.576680</td><td>-37.0639664</td><td> -11.238140</td><td>-44.413268</td><td>  12.0395607</td><td> -42.508914</td><td> -28.221765</td><td>-16.770345</td><td> -37.604200</td><td>⋯</td><td> -22.89065</td><td> -24.2373343</td><td> 107.945084</td><td>  16.357962</td><td> -22.97339</td><td> -42.53134</td><td> 49.862329</td><td> -31.78043</td><td>   4.061483</td><td> -32.229055</td></tr>\n",
       "</tbody>\n",
       "</table>\n"
      ],
      "text/latex": [
       "A matrix: 6 × 83 of type dbl\n",
       "\\begin{tabular}{lllllllllllllllllllll}\n",
       " Plasmatocytes\\_anlage & Ectoderm\\_AISN & Brain\\_and\\_ventral\\_nerve\\_cord\\_1 & Crystal\\_cell & Brain\\_and\\_ventral\\_nerve\\_cord\\_2 & Sense\\_organs & Ventral\\_midline & Glutamatergic & Progenitor\\_cells\\_2 & Cholinergic & ⋯ & Chordotonal\\_organ & Muscle\\_system\\_2 & Salivary\\_gland\\_LS & Tracheal\\_system\\_3 & unknown\\_5 & Salivary\\_gland & Peptidergic\\_neuron & Germ\\_cells\\_testes & unknown\\_6 & Epicuticle\\\\\n",
       "\\hline\n",
       "\t  -18.35125 &   -9.447942 &  40.9995113 &   -3.886712 &  23.064968 &  -10.9001382 &  -18.758364 &  -16.518203 &  60.988470 &  -16.423331 & ⋯ &  -11.96438 &  -21.9072183 &    8.305038 &  -11.217898 &   20.68485 &  -16.80400 &   8.445653 &   20.97285 &  -33.592942 &   -4.380217\\\\\n",
       "\t  -53.79422 &   78.728688 & 500.5083141 & -305.293505 & 648.481960 & -264.3083786 & -215.020194 &  -66.988786 & 638.329241 &   95.656971 & ⋯ &  837.18676 & -371.4715500 &  387.273448 & -233.215687 &  237.13807 & -109.49495 & 282.393295 &   62.69805 &  184.925192 & -198.905830\\\\\n",
       "\t -270.38193 & -332.151967 &  11.6447393 & -392.325555 & 148.519835 &  -93.9805692 & -328.242387 & -120.939397 & 552.775222 & -129.842947 & ⋯ & 1063.95458 &  -46.3167989 &  523.280588 & -213.762100 &  -23.42464 & -252.40554 & 273.902523 &  161.63656 &  187.879534 & -338.180008\\\\\n",
       "\t  -12.21951 &   -2.526674 &   0.6051765 &   -8.086226 &  -8.433613 &    0.9347226 &   -4.998145 &   -5.028105 &  -0.287955 &   -7.503002 & ⋯ &  -14.12116 &   -0.4552162 &   17.462282 &    2.350396 &   22.60852 &  -14.12116 &   2.056544 &   13.64621 &   18.116630 &  -14.121156\\\\\n",
       "\t  123.42354 &  465.478215 &  99.6444993 &  -77.905307 &  81.758278 &    7.8884434 &  450.308351 & -108.897342 & -62.014770 & -179.877380 & ⋯ & -271.11163 &  -53.6428199 & -103.120056 & -105.065399 & -168.71354 & -148.34993 & -86.906290 & -103.02117 & -236.209882 & -129.739498\\\\\n",
       "\t  -44.17595 &  -47.576680 & -37.0639664 &  -11.238140 & -44.413268 &   12.0395607 &  -42.508914 &  -28.221765 & -16.770345 &  -37.604200 & ⋯ &  -22.89065 &  -24.2373343 &  107.945084 &   16.357962 &  -22.97339 &  -42.53134 &  49.862329 &  -31.78043 &    4.061483 &  -32.229055\\\\\n",
       "\\end{tabular}\n"
      ],
      "text/markdown": [
       "\n",
       "A matrix: 6 × 83 of type dbl\n",
       "\n",
       "| Plasmatocytes_anlage | Ectoderm_AISN | Brain_and_ventral_nerve_cord_1 | Crystal_cell | Brain_and_ventral_nerve_cord_2 | Sense_organs | Ventral_midline | Glutamatergic | Progenitor_cells_2 | Cholinergic | ⋯ | Chordotonal_organ | Muscle_system_2 | Salivary_gland_LS | Tracheal_system_3 | unknown_5 | Salivary_gland | Peptidergic_neuron | Germ_cells_testes | unknown_6 | Epicuticle |\n",
       "|---|---|---|---|---|---|---|---|---|---|---|---|---|---|---|---|---|---|---|---|---|\n",
       "|  -18.35125 |   -9.447942 |  40.9995113 |   -3.886712 |  23.064968 |  -10.9001382 |  -18.758364 |  -16.518203 |  60.988470 |  -16.423331 | ⋯ |  -11.96438 |  -21.9072183 |    8.305038 |  -11.217898 |   20.68485 |  -16.80400 |   8.445653 |   20.97285 |  -33.592942 |   -4.380217 |\n",
       "|  -53.79422 |   78.728688 | 500.5083141 | -305.293505 | 648.481960 | -264.3083786 | -215.020194 |  -66.988786 | 638.329241 |   95.656971 | ⋯ |  837.18676 | -371.4715500 |  387.273448 | -233.215687 |  237.13807 | -109.49495 | 282.393295 |   62.69805 |  184.925192 | -198.905830 |\n",
       "| -270.38193 | -332.151967 |  11.6447393 | -392.325555 | 148.519835 |  -93.9805692 | -328.242387 | -120.939397 | 552.775222 | -129.842947 | ⋯ | 1063.95458 |  -46.3167989 |  523.280588 | -213.762100 |  -23.42464 | -252.40554 | 273.902523 |  161.63656 |  187.879534 | -338.180008 |\n",
       "|  -12.21951 |   -2.526674 |   0.6051765 |   -8.086226 |  -8.433613 |    0.9347226 |   -4.998145 |   -5.028105 |  -0.287955 |   -7.503002 | ⋯ |  -14.12116 |   -0.4552162 |   17.462282 |    2.350396 |   22.60852 |  -14.12116 |   2.056544 |   13.64621 |   18.116630 |  -14.121156 |\n",
       "|  123.42354 |  465.478215 |  99.6444993 |  -77.905307 |  81.758278 |    7.8884434 |  450.308351 | -108.897342 | -62.014770 | -179.877380 | ⋯ | -271.11163 |  -53.6428199 | -103.120056 | -105.065399 | -168.71354 | -148.34993 | -86.906290 | -103.02117 | -236.209882 | -129.739498 |\n",
       "|  -44.17595 |  -47.576680 | -37.0639664 |  -11.238140 | -44.413268 |   12.0395607 |  -42.508914 |  -28.221765 | -16.770345 |  -37.604200 | ⋯ |  -22.89065 |  -24.2373343 |  107.945084 |   16.357962 |  -22.97339 |  -42.53134 |  49.862329 |  -31.78043 |    4.061483 |  -32.229055 |\n",
       "\n"
      ],
      "text/plain": [
       "     Plasmatocytes_anlage Ectoderm_AISN Brain_and_ventral_nerve_cord_1\n",
       "[1,]  -18.35125             -9.447942    40.9995113                   \n",
       "[2,]  -53.79422             78.728688   500.5083141                   \n",
       "[3,] -270.38193           -332.151967    11.6447393                   \n",
       "[4,]  -12.21951             -2.526674     0.6051765                   \n",
       "[5,]  123.42354            465.478215    99.6444993                   \n",
       "[6,]  -44.17595            -47.576680   -37.0639664                   \n",
       "     Crystal_cell Brain_and_ventral_nerve_cord_2 Sense_organs Ventral_midline\n",
       "[1,]   -3.886712   23.064968                      -10.9001382  -18.758364    \n",
       "[2,] -305.293505  648.481960                     -264.3083786 -215.020194    \n",
       "[3,] -392.325555  148.519835                      -93.9805692 -328.242387    \n",
       "[4,]   -8.086226   -8.433613                        0.9347226   -4.998145    \n",
       "[5,]  -77.905307   81.758278                        7.8884434  450.308351    \n",
       "[6,]  -11.238140  -44.413268                       12.0395607  -42.508914    \n",
       "     Glutamatergic Progenitor_cells_2 Cholinergic ⋯ Chordotonal_organ\n",
       "[1,]  -16.518203    60.988470          -16.423331 ⋯  -11.96438       \n",
       "[2,]  -66.988786   638.329241           95.656971 ⋯  837.18676       \n",
       "[3,] -120.939397   552.775222         -129.842947 ⋯ 1063.95458       \n",
       "[4,]   -5.028105    -0.287955           -7.503002 ⋯  -14.12116       \n",
       "[5,] -108.897342   -62.014770         -179.877380 ⋯ -271.11163       \n",
       "[6,]  -28.221765   -16.770345          -37.604200 ⋯  -22.89065       \n",
       "     Muscle_system_2 Salivary_gland_LS Tracheal_system_3 unknown_5 \n",
       "[1,]  -21.9072183       8.305038        -11.217898         20.68485\n",
       "[2,] -371.4715500     387.273448       -233.215687        237.13807\n",
       "[3,]  -46.3167989     523.280588       -213.762100        -23.42464\n",
       "[4,]   -0.4552162      17.462282          2.350396         22.60852\n",
       "[5,]  -53.6428199    -103.120056       -105.065399       -168.71354\n",
       "[6,]  -24.2373343     107.945084         16.357962        -22.97339\n",
       "     Salivary_gland Peptidergic_neuron Germ_cells_testes unknown_6  \n",
       "[1,]  -16.80400       8.445653           20.97285         -33.592942\n",
       "[2,] -109.49495     282.393295           62.69805         184.925192\n",
       "[3,] -252.40554     273.902523          161.63656         187.879534\n",
       "[4,]  -14.12116       2.056544           13.64621          18.116630\n",
       "[5,] -148.34993     -86.906290         -103.02117        -236.209882\n",
       "[6,]  -42.53134      49.862329          -31.78043           4.061483\n",
       "     Epicuticle \n",
       "[1,]   -4.380217\n",
       "[2,] -198.905830\n",
       "[3,] -338.180008\n",
       "[4,]  -14.121156\n",
       "[5,] -129.739498\n",
       "[6,]  -32.229055"
      ]
     },
     "metadata": {},
     "output_type": "display_data"
    }
   ],
   "source": [
    "head(exp_matrix_fly_mean)"
   ]
  },
  {
   "cell_type": "markdown",
   "metadata": {},
   "source": [
    "## Add the classes to the cell types"
   ]
  },
  {
   "cell_type": "code",
   "execution_count": 18,
   "metadata": {},
   "outputs": [
    {
     "name": "stderr",
     "output_type": "stream",
     "text": [
      "\u001b[1mRows: \u001b[22m\u001b[34m83\u001b[39m \u001b[1mColumns: \u001b[22m\u001b[34m6\u001b[39m\n",
      "\u001b[36m──\u001b[39m \u001b[1mColumn specification\u001b[22m \u001b[36m──────────────────────────────────────────────────────────────────────────────────────────────────────────────────────────────────────────\u001b[39m\n",
      "\u001b[1mDelimiter:\u001b[22m \"\\t\"\n",
      "\u001b[31mchr\u001b[39m (4): cell.type.3.copy, n, Organ_system_collapsed_terms, Organ_system_11_...\n",
      "\u001b[32mdbl\u001b[39m (2): cell.type.3, number\n",
      "\n",
      "\u001b[36mℹ\u001b[39m Use `spec()` to retrieve the full column specification for this data.\n",
      "\u001b[36mℹ\u001b[39m Specify the column types or set `show_col_types = FALSE` to quiet this message.\n"
     ]
    }
   ],
   "source": [
    "classes = read_tsv(\"fly_cell.type.3_with_broad cell class.txt\")"
   ]
  },
  {
   "cell_type": "code",
   "execution_count": 19,
   "metadata": {},
   "outputs": [
    {
     "data": {
      "text/html": [
       "<table class=\"dataframe\">\n",
       "<caption>A tibble: 6 × 6</caption>\n",
       "<thead>\n",
       "\t<tr><th scope=col>cell.type.3</th><th scope=col>cell.type.3.copy</th><th scope=col>n</th><th scope=col>number</th><th scope=col>Organ_system_collapsed_terms</th><th scope=col>Organ_system_11_collapsed_terms</th></tr>\n",
       "\t<tr><th scope=col>&lt;dbl&gt;</th><th scope=col>&lt;chr&gt;</th><th scope=col>&lt;chr&gt;</th><th scope=col>&lt;dbl&gt;</th><th scope=col>&lt;chr&gt;</th><th scope=col>&lt;chr&gt;</th></tr>\n",
       "</thead>\n",
       "<tbody>\n",
       "\t<tr><td>1</td><td>Amnioserosa                    </td><td>Amnioserosa                           </td><td>7091</td><td>Extraembryonic*</td><td>Extraembryonic</td></tr>\n",
       "\t<tr><td>2</td><td>Anterior_midgut                </td><td>gut_query                             </td><td> 887</td><td>Endoderm_MidGut</td><td>Intestine     </td></tr>\n",
       "\t<tr><td>3</td><td>Bolwig_s_organ                 </td><td>Bolwig_organ                          </td><td> 115</td><td>VisualPr       </td><td>PNS           </td></tr>\n",
       "\t<tr><td>4</td><td>Brain_and_ventral_nerve_cord_1 </td><td>Central_brain_ventral_nerve_cord_2    </td><td>8547</td><td>CNS            </td><td>CNS           </td></tr>\n",
       "\t<tr><td>5</td><td>Brain_and_ventral_nerve_cord_2 </td><td>Central_brain_ventral_nerve_cord_1    </td><td>6846</td><td>CNS            </td><td>CNS           </td></tr>\n",
       "\t<tr><td>6</td><td>Brain_and_ventral_nerve_cord_PR</td><td>Central_brain_ventral_nerve_cord_early</td><td>5058</td><td>CNS            </td><td>CNS           </td></tr>\n",
       "</tbody>\n",
       "</table>\n"
      ],
      "text/latex": [
       "A tibble: 6 × 6\n",
       "\\begin{tabular}{llllll}\n",
       " cell.type.3 & cell.type.3.copy & n & number & Organ\\_system\\_collapsed\\_terms & Organ\\_system\\_11\\_collapsed\\_terms\\\\\n",
       " <dbl> & <chr> & <chr> & <dbl> & <chr> & <chr>\\\\\n",
       "\\hline\n",
       "\t 1 & Amnioserosa                     & Amnioserosa                            & 7091 & Extraembryonic* & Extraembryonic\\\\\n",
       "\t 2 & Anterior\\_midgut                 & gut\\_query                              &  887 & Endoderm\\_MidGut & Intestine     \\\\\n",
       "\t 3 & Bolwig\\_s\\_organ                  & Bolwig\\_organ                           &  115 & VisualPr        & PNS           \\\\\n",
       "\t 4 & Brain\\_and\\_ventral\\_nerve\\_cord\\_1  & Central\\_brain\\_ventral\\_nerve\\_cord\\_2     & 8547 & CNS             & CNS           \\\\\n",
       "\t 5 & Brain\\_and\\_ventral\\_nerve\\_cord\\_2  & Central\\_brain\\_ventral\\_nerve\\_cord\\_1     & 6846 & CNS             & CNS           \\\\\n",
       "\t 6 & Brain\\_and\\_ventral\\_nerve\\_cord\\_PR & Central\\_brain\\_ventral\\_nerve\\_cord\\_early & 5058 & CNS             & CNS           \\\\\n",
       "\\end{tabular}\n"
      ],
      "text/markdown": [
       "\n",
       "A tibble: 6 × 6\n",
       "\n",
       "| cell.type.3 &lt;dbl&gt; | cell.type.3.copy &lt;chr&gt; | n &lt;chr&gt; | number &lt;dbl&gt; | Organ_system_collapsed_terms &lt;chr&gt; | Organ_system_11_collapsed_terms &lt;chr&gt; |\n",
       "|---|---|---|---|---|---|\n",
       "| 1 | Amnioserosa                     | Amnioserosa                            | 7091 | Extraembryonic* | Extraembryonic |\n",
       "| 2 | Anterior_midgut                 | gut_query                              |  887 | Endoderm_MidGut | Intestine      |\n",
       "| 3 | Bolwig_s_organ                  | Bolwig_organ                           |  115 | VisualPr        | PNS            |\n",
       "| 4 | Brain_and_ventral_nerve_cord_1  | Central_brain_ventral_nerve_cord_2     | 8547 | CNS             | CNS            |\n",
       "| 5 | Brain_and_ventral_nerve_cord_2  | Central_brain_ventral_nerve_cord_1     | 6846 | CNS             | CNS            |\n",
       "| 6 | Brain_and_ventral_nerve_cord_PR | Central_brain_ventral_nerve_cord_early | 5058 | CNS             | CNS            |\n",
       "\n"
      ],
      "text/plain": [
       "  cell.type.3 cell.type.3.copy               \n",
       "1 1           Amnioserosa                    \n",
       "2 2           Anterior_midgut                \n",
       "3 3           Bolwig_s_organ                 \n",
       "4 4           Brain_and_ventral_nerve_cord_1 \n",
       "5 5           Brain_and_ventral_nerve_cord_2 \n",
       "6 6           Brain_and_ventral_nerve_cord_PR\n",
       "  n                                      number Organ_system_collapsed_terms\n",
       "1 Amnioserosa                            7091   Extraembryonic*             \n",
       "2 gut_query                               887   Endoderm_MidGut             \n",
       "3 Bolwig_organ                            115   VisualPr                    \n",
       "4 Central_brain_ventral_nerve_cord_2     8547   CNS                         \n",
       "5 Central_brain_ventral_nerve_cord_1     6846   CNS                         \n",
       "6 Central_brain_ventral_nerve_cord_early 5058   CNS                         \n",
       "  Organ_system_11_collapsed_terms\n",
       "1 Extraembryonic                 \n",
       "2 Intestine                      \n",
       "3 PNS                            \n",
       "4 CNS                            \n",
       "5 CNS                            \n",
       "6 CNS                            "
      ]
     },
     "metadata": {},
     "output_type": "display_data"
    }
   ],
   "source": [
    "head(classes)"
   ]
  },
  {
   "cell_type": "code",
   "execution_count": 20,
   "metadata": {},
   "outputs": [],
   "source": [
    "classes = classes  %>% select(cell.type.3.copy, Organ_system_11_collapsed_terms)  %>% \n",
    "rename(\"cell.type.3\" = \"cell.type.3.copy\", \"broad_class\" = \"Organ_system_11_collapsed_terms\")"
   ]
  },
  {
   "cell_type": "code",
   "execution_count": 21,
   "metadata": {},
   "outputs": [],
   "source": [
    "Blood_Fat = (classes  %>% filter(broad_class == \"Blood_Fat\"))$cell.type.3\n",
    "CNS = (classes  %>% filter(broad_class == \"CNS\"))$cell.type.3\n",
    "Ectoderm_Epidermis = (classes  %>% filter(broad_class == \"Ectoderm_Epidermis\"))$cell.type.3\n",
    "Extraembryonic = (classes  %>% filter(broad_class == \"Extraembryonic\"))$cell.type.3\n",
    "Germline = (classes  %>% filter(broad_class == \"Germline\"))$cell.type.3\n",
    "Intestine = (classes  %>% filter(broad_class == \"Intestine\"))$cell.type.3\n",
    "Mesoderm_Muscle = (classes  %>% filter(broad_class == \"Mesoderm_Muscle\"))$cell.type.3\n",
    "PNS = (classes  %>% filter(broad_class == \"PNS\"))$cell.type.3\n",
    "SalGl = (classes  %>% filter(broad_class == \"SalGl\"))$cell.type.3\n",
    "Tracheal = (classes  %>% filter(broad_class == \"Tracheal\"))$cell.type.3\n",
    "Other = (classes  %>% filter(broad_class == \"Other\"))$cell.type.3"
   ]
  },
  {
   "cell_type": "code",
   "execution_count": 22,
   "metadata": {},
   "outputs": [],
   "source": [
    "reorder_column_names = (classes  %>% filter(!is.na(cell.type.3))  %>% arrange(broad_class))$cell.type.3"
   ]
  },
  {
   "cell_type": "code",
   "execution_count": 37,
   "metadata": {},
   "outputs": [],
   "source": [
    "angleCosine <- function(v1,v2){\n",
    "  dp <- v1 %*% v2\n",
    "  dp <- dp / (sqrt(sum(v1^2))*sqrt(sum(v2^2)))\n",
    "  return(dp)\n",
    "}"
   ]
  },
  {
   "cell_type": "markdown",
   "metadata": {},
   "source": [
    "## add the peak rank values for the paren genes"
   ]
  },
  {
   "cell_type": "code",
   "execution_count": 55,
   "metadata": {},
   "outputs": [],
   "source": [
    "peak_signal = readRDS(\"FlySignalRank.rds\")"
   ]
  },
  {
   "cell_type": "code",
   "execution_count": 56,
   "metadata": {},
   "outputs": [],
   "source": [
    "fly_peaks_TF$rank = NULL"
   ]
  },
  {
   "cell_type": "code",
   "execution_count": 57,
   "metadata": {},
   "outputs": [],
   "source": [
    "fly_peaks_TF = fly_peaks_TF %>% left_join(peak_signal, by= \"peakID\")"
   ]
  },
  {
   "cell_type": "code",
   "execution_count": null,
   "metadata": {},
   "outputs": [],
   "source": []
  },
  {
   "cell_type": "code",
   "execution_count": 54,
   "metadata": {},
   "outputs": [],
   "source": [
    "options(repr.plot.width=10, repr.plot.height=8)"
   ]
  },
  {
   "cell_type": "code",
   "execution_count": 65,
   "metadata": {},
   "outputs": [],
   "source": [
    "gen = \"GATAe\""
   ]
  },
  {
   "cell_type": "code",
   "execution_count": 66,
   "metadata": {},
   "outputs": [
    {
     "name": "stderr",
     "output_type": "stream",
     "text": [
      "GATAe\n",
      "\n"
     ]
    },
    {
     "name": "stdout",
     "output_type": "stream",
     "text": [
      "[1] 349\n"
     ]
    }
   ],
   "source": [
    "tf = gen\n",
    "\n",
    "message(tf)\n",
    "    \n",
    "    file_name = paste(tf, \"aggreg_vs_TF_profile\",\"jpg\", sep = \".\")\n",
    "    file_name = paste(\"worm_agg_emb_graphs_emb_targets\", file_name, sep = \"/\")\n",
    "\n",
    "            \n",
    "          \n",
    "tfn = gsub(\"-\", \"_\", tf)\n",
    "    \n",
    "## set the rank limits\n",
    "ranklb = 0\n",
    "rankub = 1\n",
    "## set the cluster size range\n",
    "lb = 2\n",
    "ub = 84\n",
    "target_set = unique((fly_peaks_TF  %>% \n",
    "                            filter(TF == tf & \n",
    "                                   rank >= ranklb & rank <=rankub & \n",
    "                                   nPeaks > lb  & nPeaks <= ub\n",
    "                                  & Gene != tf \n",
    "                                   & grepl(\"emb\", exp)\n",
    "                                   & !(Gene %in% c(gt602genes, gt277lte602genes))\n",
    "                                  ))$Gene)\n",
    "            number_targets = length(target_set)\n",
    "            print(number_targets)\n",
    "    \n",
    "#if(number_targets > 1){\n",
    "sub_mat = exp_matrix_fly_mean[ rownames(exp_matrix_fly_mean) %in% target_set,  ]\n",
    "agg_totals = t(as.matrix(colSums(sub_mat)))\n",
    "rownames(agg_totals) = c(\"TF_agg\")\n",
    "ta = as.data.frame(t(agg_totals))\n",
    "tar = rownames_to_column(ta, var = \"cell.type\")\n",
    "colnames(tar) <- c(\"cell.type\", \"expr\")\n",
    "\n",
    "    tar$cell.type = factor(tar$cell.type, levels = (c(reorder_column_names)))\n",
    "\n",
    "    \n",
    "tf_values = exp_matrix_fly_mean  %>% as.data.frame  %>% filter(rownames(exp_matrix_fly_mean) == tf)\n",
    "t_tf_values = as.data.frame(t(tf_values))    \n",
    "# title = paste(target, \"_from_embryo\", sep = \"_\")  \n",
    "t_tf_values_row = rownames_to_column(t_tf_values, var = \"cell.type\")\n",
    " colnames(t_tf_values_row) <- c(\"cell.type\", \"expr\")\n",
    "\n",
    "t_tf_values_row$cell.type = factor(t_tf_values_row$cell.type, levels = (c(reorder_column_names)))\n",
    "\n",
    "        compare = rbind(tf_values, agg_totals)\n",
    "    angle = round(angleCosine(as.numeric(compare[1,]),as.numeric(compare[2,])), 4)\n",
    "\n",
    "\n",
    "title_agg = paste(tfn, \"targets_from_embryo\", sep = \"_\")\n",
    "agg_subtitle = paste(\"rank\", ranklb, rankub, \"_clustersize\", lb, ub, \"targets\", number_targets, \"Cos_angle\", angle, sep = \"_\" ) \n",
    "#agg_subtitle = paste(\"max\", target_max, \"target_mean\", target_mean, \"target_entropy\", target_entropy,  sep = \"_\" )    \n",
    "gg_agg = ggplot(tar, aes(x = cell.type, y = expr, fill = \n",
    "                                        ifelse(cell.type %in% Blood_Fat, \"Blood_Fat\", \n",
    "                                               ifelse(cell.type %in% CNS, \"CNS\", \n",
    "                                                ifelse(cell.type %in% Ectoderm_Epidermis, \"Ectoderm_Epidermis\", \n",
    "                                                       ifelse(cell.type %in% Extraembryonic, \"Extraembryonic\",\n",
    "                                                              ifelse(cell.type %in% Germline, \"Germline\",\n",
    "                                                                     ifelse(cell.type %in% Intestine, \"Intestine\",\n",
    "                                                                            ifelse(cell.type %in% Mesoderm_Muscle, \"Mesoderm_Muscle\",\n",
    "                                                                                   ifelse(cell.type %in% PNS, \"PNS\",\n",
    "                                                                                          ifelse(cell.type %in% SalGl, \"SalGl\",\n",
    "                                                                                                 ifelse(cell.type %in% Tracheal, \"Tracheal\",\n",
    "                                                                                                         \"Other\"))))))))))))  +\n",
    "# ggtitle(title, agg_subtitle) +\n",
    "theme_classic() +\n",
    "     labs(title=title_agg, subtitle = agg_subtitle, x= \"cell_type\", y = \"Expression(tpm)\") +\n",
    "theme(axis.text.x = element_blank(), axis.ticks.x=element_blank(), legend.key.size = unit(0.5, 'cm'),\n",
    "         legend.title=element_blank() , plot.title = element_text(hjust = 0, size = 20),\n",
    "      plot.subtitle = element_text(hjust = 0, size = 15),\n",
    "         axis.title = element_text(size = 15), axis.text = element_text(size = 12)) +\n",
    "scale_fill_manual(values = cbbPalette12a) +\n",
    "# theme(axis.text.x= element_text(size = 0.1,angle = -90, hjust = 0)) +\n",
    " geom_bar(stat=\"identity\")\n",
    "\n",
    "\n",
    "    tf_title = paste(tf, \"alone\", sep = \" \")\n",
    "\n",
    "#    tf_subtitle = paste (\"max\", tf_max, \"tf_mean\", tf_mean, \"tf_entropy\", tf_entropy,  sep = \"_\")\n",
    "gg_tf = ggplot(t_tf_values_row, aes(x = cell.type, y = expr, fill = \n",
    "                                        ifelse(cell.type %in% Blood_Fat, \"Blood_Fat\", \n",
    "                                               ifelse(cell.type %in% CNS, \"CNS\", \n",
    "                                                ifelse(cell.type %in% Ectoderm_Epidermis, \"Ectoderm_Epidermis\", \n",
    "                                                       ifelse(cell.type %in% Extraembryonic, \"Extraembryonic\",\n",
    "                                                              ifelse(cell.type %in% Germline, \"Germline\",\n",
    "                                                                     ifelse(cell.type %in% Intestine, \"Intestine\",\n",
    "                                                                            ifelse(cell.type %in% Mesoderm_Muscle, \"Mesoderm_Muscle\",\n",
    "                                                                                   ifelse(cell.type %in% PNS, \"PNS\",\n",
    "                                                                                          ifelse(cell.type %in% SalGl, \"SalGl\",\n",
    "                                                                                                 ifelse(cell.type %in% Tracheal, \"Tracheal\",\n",
    "                                                                                                         \"Other\"\n",
    "                                                                                                        ))))))))))))  +\n",
    "    theme_classic() +\n",
    "    labs(title=tf_title, x= \"cell_type\", y = \"Expression(tpm)\") +\n",
    "theme(axis.text.x = element_blank(), axis.ticks.x=element_blank(), legend.key.size = unit(0.5, 'cm'),\n",
    "         legend.title=element_blank(), plot.title = element_text(hjust = 0, size = 20),\n",
    "         axis.title = element_text(size = 15), axis.text = element_text(size = 12)) +\n",
    "#theme(axis.text.x= element_text(size = 9,angle = -90, hjust = 0)) +\n",
    "scale_fill_manual(values = cbbPalette12a) +\n",
    "  geom_bar(stat=\"identity\") + ggtitle(tf_title)\n",
    "\n",
    "#jpeg(\"test.jpg\", width =1100, height = 1100)\n",
    "    gg_both = plot_grid( gg_tf, gg_agg,             # Draw grid of plots\n",
    "          ncol = 1,\n",
    "          #rel_heights = c(1,1),\n",
    "          align = \"v\")"
   ]
  },
  {
   "cell_type": "code",
   "execution_count": 68,
   "metadata": {},
   "outputs": [
    {
     "data": {
      "image/png": "[encoded data removed]",
      "text/plain": [
       "plot without title"
      ]
     },
     "metadata": {
      "image/png": {
       "height": 480,
       "width": 600
      }
     },
     "output_type": "display_data"
    }
   ],
   "source": [
    "gg_both"
   ]
  },
  {
   "cell_type": "code",
   "execution_count": 69,
   "metadata": {},
   "outputs": [
    {
     "data": {
      "text/html": [
       "<strong>pdf:</strong> 2"
      ],
      "text/latex": [
       "\\textbf{pdf:} 2"
      ],
      "text/markdown": [
       "**pdf:** 2"
      ],
      "text/plain": [
       "pdf \n",
       "  2 "
      ]
     },
     "metadata": {},
     "output_type": "display_data"
    },
    {
     "data": {
      "text/html": [
       "<strong>pdf:</strong> 2"
      ],
      "text/latex": [
       "\\textbf{pdf:} 2"
      ],
      "text/markdown": [
       "**pdf:** 2"
      ],
      "text/plain": [
       "pdf \n",
       "  2 "
      ]
     },
     "metadata": {},
     "output_type": "display_data"
    },
    {
     "data": {
      "text/html": [
       "<strong>pdf:</strong> 2"
      ],
      "text/latex": [
       "\\textbf{pdf:} 2"
      ],
      "text/markdown": [
       "**pdf:** 2"
      ],
      "text/plain": [
       "pdf \n",
       "  2 "
      ]
     },
     "metadata": {},
     "output_type": "display_data"
    }
   ],
   "source": [
    "    pdf(\"figures/Figure_6b_fly_GATAe_aggregate_plot.pdf\", width = 10, height = 8)\n",
    "print(gg_both)\n",
    "dev.off()\n",
    "\n",
    "png(\"figures/Figure_6b_fly_GATAe_aggregate_plot.png\", width = 1000, height = 800)\n",
    "print(gg_both)\n",
    "dev.off()\n",
    "\n",
    "jpeg(\"figures/Figure_6b_fly_GATAe_aggregate_plot.jpg\", width = 1000, height = 800)\n",
    "print(gg_both)\n",
    "dev.off()"
   ]
  },
  {
   "cell_type": "code",
   "execution_count": 58,
   "metadata": {},
   "outputs": [],
   "source": [
    "gen = \"su(Hw)\""
   ]
  },
  {
   "cell_type": "code",
   "execution_count": 61,
   "metadata": {},
   "outputs": [
    {
     "name": "stderr",
     "output_type": "stream",
     "text": [
      "su(Hw)\n",
      "\n"
     ]
    },
    {
     "name": "stdout",
     "output_type": "stream",
     "text": [
      "[1] 1051\n"
     ]
    }
   ],
   "source": [
    "tf = gen\n",
    "\n",
    "message(tf)\n",
    "    \n",
    "    file_name = paste(tf, \"aggreg_vs_TF_profile\",\"jpg\", sep = \".\")\n",
    "    file_name = paste(\"worm_agg_emb_graphs_emb_targets\", file_name, sep = \"/\")\n",
    "\n",
    "            \n",
    "          \n",
    "tfn = gsub(\"-\", \"_\", tf)\n",
    "    \n",
    "## set the rank limits\n",
    "ranklb = 0\n",
    "rankub = 1\n",
    "## set the cluster size range\n",
    "lb = 2\n",
    "ub = 84\n",
    "target_set = unique((fly_peaks_TF  %>% \n",
    "                            filter(TF == tf & \n",
    "                                   rank >= ranklb & rank <=rankub & \n",
    "                                   nPeaks > lb  & nPeaks <= ub\n",
    "                                  & Gene != tf \n",
    "                                   & grepl(\"emb\", exp)\n",
    "                                   & !(Gene %in% c(gt602genes, gt277lte602genes))\n",
    "                                  ))$Gene)\n",
    "            number_targets = length(target_set)\n",
    "            print(number_targets)\n",
    "    \n",
    "#if(number_targets > 1){\n",
    "sub_mat = exp_matrix_fly_mean[ rownames(exp_matrix_fly_mean) %in% target_set,  ]\n",
    "agg_totals = t(as.matrix(colSums(sub_mat)))\n",
    "rownames(agg_totals) = c(\"TF_agg\")\n",
    "ta = as.data.frame(t(agg_totals))\n",
    "tar = rownames_to_column(ta, var = \"cell.type\")\n",
    "colnames(tar) <- c(\"cell.type\", \"expr\")\n",
    "\n",
    "    tar$cell.type = factor(tar$cell.type, levels = (c(reorder_column_names)))\n",
    "\n",
    "    \n",
    "tf_values = exp_matrix_fly_mean  %>% as.data.frame  %>% filter(rownames(exp_matrix_fly_mean) == tf)\n",
    "t_tf_values = as.data.frame(t(tf_values))    \n",
    "# title = paste(target, \"_from_embryo\", sep = \"_\")  \n",
    "t_tf_values_row = rownames_to_column(t_tf_values, var = \"cell.type\")\n",
    " colnames(t_tf_values_row) <- c(\"cell.type\", \"expr\")\n",
    "\n",
    "t_tf_values_row$cell.type = factor(t_tf_values_row$cell.type, levels = (c(reorder_column_names)))\n",
    "\n",
    "        compare = rbind(tf_values, agg_totals)\n",
    "    angle = round(angleCosine(as.numeric(compare[1,]),as.numeric(compare[2,])), 4)\n",
    "\n",
    "\n",
    "title_agg = paste(tfn, \"targets_from_embryo\", sep = \"_\")\n",
    "agg_subtitle = paste(\"rank\", ranklb, rankub, \"_clustersize\", lb, ub, \"targets\", number_targets, \"Cos_angle\", angle, sep = \"_\" ) \n",
    "#agg_subtitle = paste(\"max\", target_max, \"target_mean\", target_mean, \"target_entropy\", target_entropy,  sep = \"_\" )    \n",
    "gg_agg = ggplot(tar, aes(x = cell.type, y = expr, fill = \n",
    "                                        ifelse(cell.type %in% Blood_Fat, \"Blood_Fat\", \n",
    "                                               ifelse(cell.type %in% CNS, \"CNS\", \n",
    "                                                ifelse(cell.type %in% Ectoderm_Epidermis, \"Ectoderm_Epidermis\", \n",
    "                                                       ifelse(cell.type %in% Extraembryonic, \"Extraembryonic\",\n",
    "                                                              ifelse(cell.type %in% Germline, \"Germline\",\n",
    "                                                                     ifelse(cell.type %in% Intestine, \"Intestine\",\n",
    "                                                                            ifelse(cell.type %in% Mesoderm_Muscle, \"Mesoderm_Muscle\",\n",
    "                                                                                   ifelse(cell.type %in% PNS, \"PNS\",\n",
    "                                                                                          ifelse(cell.type %in% SalGl, \"SalGl\",\n",
    "                                                                                                 ifelse(cell.type %in% Tracheal, \"Tracheal\",\n",
    "                                                                                                         \"Other\"))))))))))))  +\n",
    "# ggtitle(title, agg_subtitle) +\n",
    "theme_classic() +\n",
    "     labs(title=title_agg, subtitle = agg_subtitle, x= \"cell_type\", y = \"Expression(tpm)\") +\n",
    "theme(axis.text.x = element_blank(), axis.ticks.x=element_blank(), legend.key.size = unit(0.5, 'cm'),\n",
    "         legend.title=element_blank() , plot.title = element_text(hjust = 0, size = 20),\n",
    "      plot.subtitle = element_text(hjust = 0, size = 15),\n",
    "         axis.title = element_text(size = 15), axis.text = element_text(size = 12)) +\n",
    "scale_fill_manual(values = cbbPalette12a) +\n",
    "# theme(axis.text.x= element_text(size = 0.1,angle = -90, hjust = 0)) +\n",
    " geom_bar(stat=\"identity\")\n",
    "\n",
    "\n",
    "    tf_title = paste(tf, \"alone\", sep = \" \")\n",
    "\n",
    "#    tf_subtitle = paste (\"max\", tf_max, \"tf_mean\", tf_mean, \"tf_entropy\", tf_entropy,  sep = \"_\")\n",
    "gg_tf = ggplot(t_tf_values_row, aes(x = cell.type, y = expr, fill = \n",
    "                                        ifelse(cell.type %in% Blood_Fat, \"Blood_Fat\", \n",
    "                                               ifelse(cell.type %in% CNS, \"CNS\", \n",
    "                                                ifelse(cell.type %in% Ectoderm_Epidermis, \"Ectoderm_Epidermis\", \n",
    "                                                       ifelse(cell.type %in% Extraembryonic, \"Extraembryonic\",\n",
    "                                                              ifelse(cell.type %in% Germline, \"Germline\",\n",
    "                                                                     ifelse(cell.type %in% Intestine, \"Intestine\",\n",
    "                                                                            ifelse(cell.type %in% Mesoderm_Muscle, \"Mesoderm_Muscle\",\n",
    "                                                                                   ifelse(cell.type %in% PNS, \"PNS\",\n",
    "                                                                                          ifelse(cell.type %in% SalGl, \"SalGl\",\n",
    "                                                                                                 ifelse(cell.type %in% Tracheal, \"Tracheal\",\n",
    "                                                                                                         \"Other\"\n",
    "                                                                                                        ))))))))))))  +\n",
    "    theme_classic() +\n",
    "    labs(title=tf_title, x= \"cell_type\", y = \"Expression(tpm)\") +\n",
    "theme(axis.text.x = element_blank(), axis.ticks.x=element_blank(), legend.key.size = unit(0.5, 'cm'),\n",
    "         legend.title=element_blank(), plot.title = element_text(hjust = 0, size = 20),\n",
    "         axis.title = element_text(size = 15), axis.text = element_text(size = 12)) +\n",
    "#theme(axis.text.x= element_text(size = 9,angle = -90, hjust = 0)) +\n",
    "scale_fill_manual(values = cbbPalette12a) +\n",
    "  geom_bar(stat=\"identity\") + ggtitle(tf_title)\n",
    "\n",
    "#jpeg(\"test.jpg\", width =1100, height = 1100)\n",
    "    gg_both = plot_grid( gg_tf, gg_agg,             # Draw grid of plots\n",
    "          ncol = 1,\n",
    "          #rel_heights = c(1,1),\n",
    "          align = \"v\")"
   ]
  },
  {
   "cell_type": "code",
   "execution_count": 1,
   "metadata": {},
   "outputs": [
    {
     "ename": "ERROR",
     "evalue": "Error in eval(expr, envir, enclos): object 'gg_both' not found\n",
     "output_type": "error",
     "traceback": [
      "Error in eval(expr, envir, enclos): object 'gg_both' not found\nTraceback:\n"
     ]
    }
   ],
   "source": [
    "gg_both"
   ]
  },
  {
   "cell_type": "code",
   "execution_count": 70,
   "metadata": {},
   "outputs": [],
   "source": [
    "figure6_fly_function = function(fly_peaks_TF){\n",
    "   # get bootstrap matrix\n",
    "    exp_matrix_boot = read_tsv(\"data/cds_fly_pca300_vers3.final.annotation.bootstrapTPM.tsv\")\n",
    "    # fix the gene names\n",
    "    peak_matrix_ids = readRDS(\"data/fly_gene_name_translations.rds\")\n",
    "    exp_matrix = left_join(exp_matrix_boot, peak_matrix_ids %>% select(Submitted_ID_matrix, FBID_key_matrix, Submitted_ID_peak), \n",
    "          by = c(\"Gene\" = \"Submitted_ID_matrix\"))\n",
    "    exp_matrix = exp_matrix  %>% mutate(Submitted_combined = \n",
    "                            ifelse(is.na(exp_matrix$Submitted_ID_peak), Gene, Submitted_ID_peak)) \n",
    "    exp_matrix = column_to_rownames(exp_matrix, var = \"Submitted_combined\")\n",
    "\n",
    "    exp_matrix$Submitted_ID_peak = NULL\n",
    "    exp_matrix$FBID_key_matrix = NULL\n",
    "    exp_matrix$Gene = NULL\n",
    "    \n",
    "    exp_matrix_mean <-t(apply(exp_matrix,1, function(x) x - mean(x)))\n",
    "   \n",
    "    # get the fly peaks file and add the rank to the TF that had parens\n",
    "    fly_peaks_TF = readRDS( \"data/fly_peaks_TF_names_fixed.rds\")\n",
    "    peak_signal = readRDS(\"FlySignalRank.rds\")                          \n",
    "    fly_peaks_TF$rank = NULL\n",
    "    fly_peaks_TF = fly_peaks_TF %>% left_join(peak_signal, by= \"peakID\")  \n",
    "     # set up colors                         \n",
    "    cbbPalette12a = c(\"#88CCEE\", \"#CC6677\", \"#DDCC77\", \"#117733\", \"#332288\", \"#AA4499\", \"#44AA99\",\n",
    "                 \"#882255\", \"#000000\",  \"#999933\", \"#661100\",\"#6699CC\")\n",
    "    cbbPalette <- c( \"#D55E00\", \"#E69F00\", \"#56B4E9\", \n",
    "                 \"#F0E442\", \"#009E73\", \"#0072B2\",  \"#000000\", \"#CC79A7\",  \"#66CC99\")  \n",
    "    ## Get the targets of HOT sites\n",
    "                              ### save the matrix\n",
    "    temp = exp_matrix_mean\n",
    "    load(\"data/fly_files_for_Angles.RData\")\n",
    "    ## remove this from abovebecause it is not the bootstrap corrected\n",
    "    rm(exp_matrix_fly_mean)\n",
    "    exp_matrix_fly_mean = exp_matrix_mean\n",
    "                              \n",
    "    # Get the classes and add them\n",
    "    classes = read_tsv(\"fly_cell.type.3_with_broad cell class.txt\")\n",
    "    classes = classes  %>% select(cell.type.3.copy, Organ_system_11_collapsed_terms)  %>% \n",
    "    rename(\"cell.type.3\" = \"cell.type.3.copy\", \"broad_class\" = \"Organ_system_11_collapsed_terms\")\n",
    "\n",
    "    Blood_Fat = (classes  %>% filter(broad_class == \"Blood_Fat\"))$cell.type.3\n",
    "    CNS = (classes  %>% filter(broad_class == \"CNS\"))$cell.type.3\n",
    "    Ectoderm_Epidermis = (classes  %>% filter(broad_class == \"Ectoderm_Epidermis\"))$cell.type.3\n",
    "    Extraembryonic = (classes  %>% filter(broad_class == \"Extraembryonic\"))$cell.type.3\n",
    "    Germline = (classes  %>% filter(broad_class == \"Germline\"))$cell.type.3\n",
    "    Intestine = (classes  %>% filter(broad_class == \"Intestine\"))$cell.type.3\n",
    "    Mesoderm_Muscle = (classes  %>% filter(broad_class == \"Mesoderm_Muscle\"))$cell.type.3\n",
    "    PNS = (classes  %>% filter(broad_class == \"PNS\"))$cell.type.3\n",
    "    SalGl = (classes  %>% filter(broad_class == \"SalGl\"))$cell.type.3\n",
    "    Tracheal = (classes  %>% filter(broad_class == \"Tracheal\"))$cell.type.3\n",
    "    Other = (classes  %>% filter(broad_class == \"Other\"))$cell.type.3\n",
    "\n",
    "    reorder_column_names = (classes  %>% filter(!is.na(cell.type.3))  %>% arrange(broad_class))$cell.type.3\n",
    "\n",
    "    angleCosine <- function(v1,v2){\n",
    "      dp <- v1 %*% v2\n",
    "      dp <- dp / (sqrt(sum(v1^2))*sqrt(sum(v2^2)))\n",
    "      return(dp)\n",
    "        }\n",
    "    # set the figure size\n",
    "    options(repr.plot.width=10, repr.plot.height=8)\n",
    "    #Make the figure\n",
    "    gen = \"GATAe\"\n",
    "    tf = gen\n",
    "\n",
    "    message(tf)\n",
    "\n",
    "        file_name = paste(tf, \"aggreg_vs_TF_profile\",\"jpg\", sep = \".\")\n",
    "        file_name = paste(\"worm_agg_emb_graphs_emb_targets\", file_name, sep = \"/\")\n",
    "\n",
    "\n",
    "\n",
    "    tfn = gsub(\"-\", \"_\", tf)\n",
    "\n",
    "    ## set the rank limits\n",
    "    ranklb = 0\n",
    "    rankub = 1\n",
    "    ## set the cluster size range\n",
    "    lb = 2\n",
    "    ub = 84\n",
    "    target_set = unique((fly_peaks_TF  %>% \n",
    "                                filter(TF == tf & \n",
    "                                       rank >= ranklb & rank <=rankub & \n",
    "                                       nPeaks > lb  & nPeaks <= ub\n",
    "                                      & Gene != tf \n",
    "                                       & grepl(\"emb\", exp)\n",
    "                                       & !(Gene %in% c(gt602genes, gt277lte602genes))\n",
    "                                      ))$Gene)\n",
    "                number_targets = length(target_set)\n",
    "                print(number_targets)\n",
    "\n",
    "    #if(number_targets > 1){\n",
    "    sub_mat = exp_matrix_fly_mean[ rownames(exp_matrix_fly_mean) %in% target_set,  ]\n",
    "    agg_totals = t(as.matrix(colSums(sub_mat)))\n",
    "    rownames(agg_totals) = c(\"TF_agg\")\n",
    "    ta = as.data.frame(t(agg_totals))\n",
    "    tar = rownames_to_column(ta, var = \"cell.type\")\n",
    "    colnames(tar) <- c(\"cell.type\", \"expr\")\n",
    "\n",
    "        tar$cell.type = factor(tar$cell.type, levels = (c(reorder_column_names)))\n",
    "\n",
    "\n",
    "    tf_values = exp_matrix_fly_mean  %>% as.data.frame  %>% filter(rownames(exp_matrix_fly_mean) == tf)\n",
    "    t_tf_values = as.data.frame(t(tf_values))    \n",
    "    # title = paste(target, \"_from_embryo\", sep = \"_\")  \n",
    "    t_tf_values_row = rownames_to_column(t_tf_values, var = \"cell.type\")\n",
    "     colnames(t_tf_values_row) <- c(\"cell.type\", \"expr\")\n",
    "\n",
    "    t_tf_values_row$cell.type = factor(t_tf_values_row$cell.type, levels = (c(reorder_column_names)))\n",
    "\n",
    "            compare = rbind(tf_values, agg_totals)\n",
    "        angle = round(angleCosine(as.numeric(compare[1,]),as.numeric(compare[2,])), 4)\n",
    "\n",
    "\n",
    "    title_agg = paste(tfn, \"targets_from_embryo\", sep = \"_\")\n",
    "    agg_subtitle = paste(\"rank\", ranklb, rankub, \"_clustersize\", lb, ub, \"targets\", number_targets, \"Cos_angle\", angle, sep = \"_\" ) \n",
    "    #agg_subtitle = paste(\"max\", target_max, \"target_mean\", target_mean, \"target_entropy\", target_entropy,  sep = \"_\" )    \n",
    "    gg_agg = ggplot(tar, aes(x = cell.type, y = expr, fill = \n",
    "                                            ifelse(cell.type %in% Blood_Fat, \"Blood_Fat\", \n",
    "                                                   ifelse(cell.type %in% CNS, \"CNS\", \n",
    "                                                    ifelse(cell.type %in% Ectoderm_Epidermis, \"Ectoderm_Epidermis\", \n",
    "                                                           ifelse(cell.type %in% Extraembryonic, \"Extraembryonic\",\n",
    "                                                                  ifelse(cell.type %in% Germline, \"Germline\",\n",
    "                                                                         ifelse(cell.type %in% Intestine, \"Intestine\",\n",
    "                                                                                ifelse(cell.type %in% Mesoderm_Muscle, \"Mesoderm_Muscle\",\n",
    "                                                                                       ifelse(cell.type %in% PNS, \"PNS\",\n",
    "                                                                                              ifelse(cell.type %in% SalGl, \"SalGl\",\n",
    "                                                                                                     ifelse(cell.type %in% Tracheal, \"Tracheal\",\n",
    "                                                                                                             \"Other\"))))))))))))  +\n",
    "    # ggtitle(title, agg_subtitle) +\n",
    "    theme_classic() +\n",
    "         labs(title=title_agg, subtitle = agg_subtitle, x= \"cell_type\", y = \"Expression(tpm)\") +\n",
    "    theme(axis.text.x = element_blank(), axis.ticks.x=element_blank(), legend.key.size = unit(0.5, 'cm'),\n",
    "             legend.title=element_blank() , plot.title = element_text(hjust = 0, size = 20),\n",
    "          plot.subtitle = element_text(hjust = 0, size = 15),\n",
    "             axis.title = element_text(size = 15), axis.text = element_text(size = 12)) +\n",
    "    scale_fill_manual(values = cbbPalette12a) +\n",
    "    # theme(axis.text.x= element_text(size = 0.1,angle = -90, hjust = 0)) +\n",
    "     geom_bar(stat=\"identity\")\n",
    "\n",
    "\n",
    "        tf_title = paste(tf, \"alone\", sep = \" \")\n",
    "\n",
    "    #    tf_subtitle = paste (\"max\", tf_max, \"tf_mean\", tf_mean, \"tf_entropy\", tf_entropy,  sep = \"_\")\n",
    "    gg_tf = ggplot(t_tf_values_row, aes(x = cell.type, y = expr, fill = \n",
    "                                            ifelse(cell.type %in% Blood_Fat, \"Blood_Fat\", \n",
    "                                                   ifelse(cell.type %in% CNS, \"CNS\", \n",
    "                                                    ifelse(cell.type %in% Ectoderm_Epidermis, \"Ectoderm_Epidermis\", \n",
    "                                                           ifelse(cell.type %in% Extraembryonic, \"Extraembryonic\",\n",
    "                                                                  ifelse(cell.type %in% Germline, \"Germline\",\n",
    "                                                                         ifelse(cell.type %in% Intestine, \"Intestine\",\n",
    "                                                                                ifelse(cell.type %in% Mesoderm_Muscle, \"Mesoderm_Muscle\",\n",
    "                                                                                       ifelse(cell.type %in% PNS, \"PNS\",\n",
    "                                                                                              ifelse(cell.type %in% SalGl, \"SalGl\",\n",
    "                                                                                                     ifelse(cell.type %in% Tracheal, \"Tracheal\",\n",
    "                                                                                                             \"Other\"\n",
    "                                                                                                            ))))))))))))  +\n",
    "        theme_classic() +\n",
    "        labs(title=tf_title, x= \"cell_type\", y = \"Expression(tpm)\") +\n",
    "    theme(axis.text.x = element_blank(), axis.ticks.x=element_blank(), legend.key.size = unit(0.5, 'cm'),\n",
    "             legend.title=element_blank(), plot.title = element_text(hjust = 0, size = 20),\n",
    "             axis.title = element_text(size = 15), axis.text = element_text(size = 12)) +\n",
    "    #theme(axis.text.x= element_text(size = 9,angle = -90, hjust = 0)) +\n",
    "    scale_fill_manual(values = cbbPalette12a) +\n",
    "      geom_bar(stat=\"identity\") + ggtitle(tf_title)\n",
    "\n",
    "    #jpeg(\"test.jpg\", width =1100, height = 1100)\n",
    "        gg_both = plot_grid( gg_tf, gg_agg,             # Draw grid of plots\n",
    "              ncol = 1,\n",
    "              #rel_heights = c(1,1),\n",
    "              align = \"v\")\n",
    "    # save the pdf's etc\n",
    "    pdf(\"figures/Figure_6b_fly_GATAe_aggregate_plot.pdf\", width = 10, height = 8)\n",
    "    print(gg_both)\n",
    "    dev.off()\n",
    "\n",
    "    png(\"figures/Figure_6b_fly_GATAe_aggregate_plot.png\", width = 1000, height = 800)\n",
    "    print(gg_both)\n",
    "    dev.off()\n",
    "\n",
    "    jpeg(\"figures/Figure_6b_fly_GATAe_aggregate_plot.jpg\", width = 1000, height = 800)\n",
    "    print(gg_both)\n",
    "    dev.off()\n",
    "                              \n",
    "}"
   ]
  },
  {
   "cell_type": "code",
   "execution_count": 77,
   "metadata": {},
   "outputs": [],
   "source": [
    "save(exp_matrix, exp_matrix_fly_mean, fly_peaks_TF, cbbPalette12a, cbbPalette, gt602genes, gt277lte602genes,\n",
    "       classes, reorder_column_names, angleCosine, figure6_fly_function, \n",
    "        file = \"data/fly_figure_6b_TF_targets.RData\")"
   ]
  },
  {
   "cell_type": "code",
   "execution_count": 71,
   "metadata": {},
   "outputs": [],
   "source": [
    "saveRDS(fly_peaks_TF, \"data/fly_peaks_TF_names_fixed_with_rank.rds\")"
   ]
  },
  {
   "cell_type": "code",
   "execution_count": 74,
   "metadata": {},
   "outputs": [
    {
     "data": {
      "text/html": [
       "<style>\n",
       ".list-inline {list-style: none; margin:0; padding: 0}\n",
       ".list-inline>li {display: inline-block}\n",
       ".list-inline>li:not(:last-child)::after {content: \"\\00b7\"; padding: 0 .5ex}\n",
       "</style>\n",
       "<ol class=list-inline><li>'agg_subtitle'</li><li>'agg_totals'</li><li>'angle'</li><li>'angleCosine'</li><li>'Blood_Fat'</li><li>'cbbPalette'</li><li>'cbbPalette12a'</li><li>'classes'</li><li>'CNS'</li><li>'compare'</li><li>'Ectoderm_Epidermis'</li><li>'exp_matrix'</li><li>'exp_matrix_boot'</li><li>'exp_matrix_fly_mean'</li><li>'exp_matrix_mean'</li><li>'Extraembryonic'</li><li>'figure6_fly_function'</li><li>'file_name'</li><li>'fly_peaks_TF'</li><li>'fly_TF_targets'</li><li>'gen'</li><li>'Germline'</li><li>'gg_agg'</li><li>'gg_both'</li><li>'gg_tf'</li><li>'gt277lte602genes'</li><li>'gt602genes'</li><li>'Intestine'</li><li>'lb'</li><li>'Mesoderm_Muscle'</li><li>'number_targets'</li><li>'Other'</li><li>'peak_matrix_ids'</li><li>'peak_signal'</li><li>'PNS'</li><li>'ranklb'</li><li>'rankub'</li><li>'reorder_column_names'</li><li>'SalGl'</li><li>'sub_mat'</li><li>'t_tf_values'</li><li>'t_tf_values_row'</li><li>'ta'</li><li>'tar'</li><li>'target_set'</li><li>'temp'</li><li>'tf'</li><li>'tf_title'</li><li>'tf_values'</li><li>'tfn'</li><li>'title_agg'</li><li>'Tracheal'</li><li>'ub'</li></ol>\n"
      ],
      "text/latex": [
       "\\begin{enumerate*}\n",
       "\\item 'agg\\_subtitle'\n",
       "\\item 'agg\\_totals'\n",
       "\\item 'angle'\n",
       "\\item 'angleCosine'\n",
       "\\item 'Blood\\_Fat'\n",
       "\\item 'cbbPalette'\n",
       "\\item 'cbbPalette12a'\n",
       "\\item 'classes'\n",
       "\\item 'CNS'\n",
       "\\item 'compare'\n",
       "\\item 'Ectoderm\\_Epidermis'\n",
       "\\item 'exp\\_matrix'\n",
       "\\item 'exp\\_matrix\\_boot'\n",
       "\\item 'exp\\_matrix\\_fly\\_mean'\n",
       "\\item 'exp\\_matrix\\_mean'\n",
       "\\item 'Extraembryonic'\n",
       "\\item 'figure6\\_fly\\_function'\n",
       "\\item 'file\\_name'\n",
       "\\item 'fly\\_peaks\\_TF'\n",
       "\\item 'fly\\_TF\\_targets'\n",
       "\\item 'gen'\n",
       "\\item 'Germline'\n",
       "\\item 'gg\\_agg'\n",
       "\\item 'gg\\_both'\n",
       "\\item 'gg\\_tf'\n",
       "\\item 'gt277lte602genes'\n",
       "\\item 'gt602genes'\n",
       "\\item 'Intestine'\n",
       "\\item 'lb'\n",
       "\\item 'Mesoderm\\_Muscle'\n",
       "\\item 'number\\_targets'\n",
       "\\item 'Other'\n",
       "\\item 'peak\\_matrix\\_ids'\n",
       "\\item 'peak\\_signal'\n",
       "\\item 'PNS'\n",
       "\\item 'ranklb'\n",
       "\\item 'rankub'\n",
       "\\item 'reorder\\_column\\_names'\n",
       "\\item 'SalGl'\n",
       "\\item 'sub\\_mat'\n",
       "\\item 't\\_tf\\_values'\n",
       "\\item 't\\_tf\\_values\\_row'\n",
       "\\item 'ta'\n",
       "\\item 'tar'\n",
       "\\item 'target\\_set'\n",
       "\\item 'temp'\n",
       "\\item 'tf'\n",
       "\\item 'tf\\_title'\n",
       "\\item 'tf\\_values'\n",
       "\\item 'tfn'\n",
       "\\item 'title\\_agg'\n",
       "\\item 'Tracheal'\n",
       "\\item 'ub'\n",
       "\\end{enumerate*}\n"
      ],
      "text/markdown": [
       "1. 'agg_subtitle'\n",
       "2. 'agg_totals'\n",
       "3. 'angle'\n",
       "4. 'angleCosine'\n",
       "5. 'Blood_Fat'\n",
       "6. 'cbbPalette'\n",
       "7. 'cbbPalette12a'\n",
       "8. 'classes'\n",
       "9. 'CNS'\n",
       "10. 'compare'\n",
       "11. 'Ectoderm_Epidermis'\n",
       "12. 'exp_matrix'\n",
       "13. 'exp_matrix_boot'\n",
       "14. 'exp_matrix_fly_mean'\n",
       "15. 'exp_matrix_mean'\n",
       "16. 'Extraembryonic'\n",
       "17. 'figure6_fly_function'\n",
       "18. 'file_name'\n",
       "19. 'fly_peaks_TF'\n",
       "20. 'fly_TF_targets'\n",
       "21. 'gen'\n",
       "22. 'Germline'\n",
       "23. 'gg_agg'\n",
       "24. 'gg_both'\n",
       "25. 'gg_tf'\n",
       "26. 'gt277lte602genes'\n",
       "27. 'gt602genes'\n",
       "28. 'Intestine'\n",
       "29. 'lb'\n",
       "30. 'Mesoderm_Muscle'\n",
       "31. 'number_targets'\n",
       "32. 'Other'\n",
       "33. 'peak_matrix_ids'\n",
       "34. 'peak_signal'\n",
       "35. 'PNS'\n",
       "36. 'ranklb'\n",
       "37. 'rankub'\n",
       "38. 'reorder_column_names'\n",
       "39. 'SalGl'\n",
       "40. 'sub_mat'\n",
       "41. 't_tf_values'\n",
       "42. 't_tf_values_row'\n",
       "43. 'ta'\n",
       "44. 'tar'\n",
       "45. 'target_set'\n",
       "46. 'temp'\n",
       "47. 'tf'\n",
       "48. 'tf_title'\n",
       "49. 'tf_values'\n",
       "50. 'tfn'\n",
       "51. 'title_agg'\n",
       "52. 'Tracheal'\n",
       "53. 'ub'\n",
       "\n",
       "\n"
      ],
      "text/plain": [
       " [1] \"agg_subtitle\"         \"agg_totals\"           \"angle\"               \n",
       " [4] \"angleCosine\"          \"Blood_Fat\"            \"cbbPalette\"          \n",
       " [7] \"cbbPalette12a\"        \"classes\"              \"CNS\"                 \n",
       "[10] \"compare\"              \"Ectoderm_Epidermis\"   \"exp_matrix\"          \n",
       "[13] \"exp_matrix_boot\"      \"exp_matrix_fly_mean\"  \"exp_matrix_mean\"     \n",
       "[16] \"Extraembryonic\"       \"figure6_fly_function\" \"file_name\"           \n",
       "[19] \"fly_peaks_TF\"         \"fly_TF_targets\"       \"gen\"                 \n",
       "[22] \"Germline\"             \"gg_agg\"               \"gg_both\"             \n",
       "[25] \"gg_tf\"                \"gt277lte602genes\"     \"gt602genes\"          \n",
       "[28] \"Intestine\"            \"lb\"                   \"Mesoderm_Muscle\"     \n",
       "[31] \"number_targets\"       \"Other\"                \"peak_matrix_ids\"     \n",
       "[34] \"peak_signal\"          \"PNS\"                  \"ranklb\"              \n",
       "[37] \"rankub\"               \"reorder_column_names\" \"SalGl\"               \n",
       "[40] \"sub_mat\"              \"t_tf_values\"          \"t_tf_values_row\"     \n",
       "[43] \"ta\"                   \"tar\"                  \"target_set\"          \n",
       "[46] \"temp\"                 \"tf\"                   \"tf_title\"            \n",
       "[49] \"tf_values\"            \"tfn\"                  \"title_agg\"           \n",
       "[52] \"Tracheal\"             \"ub\"                  "
      ]
     },
     "metadata": {},
     "output_type": "display_data"
    }
   ],
   "source": [
    "ls()"
   ]
  },
  {
   "cell_type": "code",
   "execution_count": null,
   "metadata": {},
   "outputs": [],
   "source": []
  }
 ],
 "metadata": {
  "kernelspec": {
   "display_name": "R",
   "language": "R",
   "name": "ir"
  },
  "language_info": {
   "codemirror_mode": "r",
   "file_extension": ".r",
   "mimetype": "text/x-r-source",
   "name": "R",
   "pygments_lexer": "r",
   "version": "4.1.2"
  },
  "toc": {
   "base_numbering": 1,
   "nav_menu": {},
   "number_sections": true,
   "sideBar": true,
   "skip_h1_title": false,
   "title_cell": "Table of Contents",
   "title_sidebar": "Contents",
   "toc_cell": false,
   "toc_position": {
    "height": "calc(100% - 180px)",
    "left": "10px",
    "top": "150px",
    "width": "307.183px"
   },
   "toc_section_display": true,
   "toc_window_display": true
  }
 },
 "nbformat": 4,
 "nbformat_minor": 2
}
